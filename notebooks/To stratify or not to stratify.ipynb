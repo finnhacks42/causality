{
 "cells": [
  {
   "cell_type": "code",
   "execution_count": 1,
   "metadata": {
    "collapsed": false
   },
   "outputs": [],
   "source": [
    " %load_ext Cython"
   ]
  },
  {
   "cell_type": "code",
   "execution_count": 2,
   "metadata": {
    "collapsed": false
   },
   "outputs": [],
   "source": [
    "import time\n",
    "import numpy\n",
    "import matplotlib.pyplot as plt\n",
    "%matplotlib inline\n"
   ]
  },
  {
   "cell_type": "code",
   "execution_count": 4,
   "metadata": {
    "collapsed": false
   },
   "outputs": [],
   "source": [
    "%%cython\n",
    "\n",
    "def fib(int n):\n",
    "    cdef int i\n",
    "    cdef double a=0.0, b=1.0\n",
    "    for i in range(n):\n",
    "        a, b = a+b, a\n",
    "    return a"
   ]
  },
  {
   "cell_type": "code",
   "execution_count": 19,
   "metadata": {
    "collapsed": false
   },
   "outputs": [],
   "source": [
    "%%cython\n",
    "import numpy\n",
    "cimport numpy\n",
    "cimport cython\n",
    "def simulate_cy(int simulations, int N):\n",
    "    cdef numpy.ndarray result = numpy.zeros(simulations, dtype=float)\n",
    "    cdef numpy.ndarray g = numpy.zeros(N,dtype=int)\n",
    "    cdef numpy.ndarray v = numpy.zeros(N,dtype=float)\n",
    "    cdef int s\n",
    "    cdef int n = 1\n",
    "    cdef float p = 0.5\n",
    "    cdef int half = N/2\n",
    "    \n",
    "    for s in range(simulations):\n",
    "        g = numpy.random.binomial(n,p,size=N)\n",
    "        v = numpy.random.normal(loc = g)\n",
    "        result[s] = v[0:half].mean() - v[half:].mean()\n",
    "    return result"
   ]
  },
  {
   "cell_type": "code",
   "execution_count": 20,
   "metadata": {
    "collapsed": true
   },
   "outputs": [],
   "source": [
    "def simulate(simulations, N):\n",
    "    result = numpy.zeros(simulations, dtype=float)\n",
    "    half = N/2\n",
    "    for s in range(simulations):\n",
    "        g = numpy.random.binomial(1,.5,size=N)\n",
    "        v = numpy.random.normal(loc = g)\n",
    "        result[s] = v[0:half].mean() - v[half:].mean() # no stratification\n",
    "        \n",
    "        \n",
    "    return result"
   ]
  },
  {
   "cell_type": "code",
   "execution_count": 18,
   "metadata": {
    "collapsed": false
   },
   "outputs": [
    {
     "name": "stdout",
     "output_type": "stream",
     "text": [
      "3.52547097206\n"
     ]
    }
   ],
   "source": [
    "simulations = 100000\n",
    "r = simulate(simulations,100)\n"
   ]
  },
  {
   "cell_type": "code",
   "execution_count": 14,
   "metadata": {
    "collapsed": false
   },
   "outputs": [
    {
     "name": "stdout",
     "output_type": "stream",
     "text": [
      "3.64864587784\n"
     ]
    }
   ],
   "source": [
    "start = time.time()\n",
    "r = simulate(simulations,100)\n",
    "print time.time() - start"
   ]
  },
  {
   "cell_type": "code",
   "execution_count": 19,
   "metadata": {
    "collapsed": false
   },
   "outputs": [
    {
     "data": {
      "text/plain": [
       "0.47992150740442086"
      ]
     },
     "execution_count": 19,
     "metadata": {},
     "output_type": "execute_result"
    }
   ],
   "source": []
  },
  {
   "cell_type": "code",
   "execution_count": null,
   "metadata": {
    "collapsed": true
   },
   "outputs": [],
   "source": []
  }
 ],
 "metadata": {
  "kernelspec": {
   "display_name": "Python 2",
   "language": "python",
   "name": "python2"
  },
  "language_info": {
   "codemirror_mode": {
    "name": "ipython",
    "version": 2
   },
   "file_extension": ".py",
   "mimetype": "text/x-python",
   "name": "python",
   "nbconvert_exporter": "python",
   "pygments_lexer": "ipython2",
   "version": "2.7.12"
  }
 },
 "nbformat": 4,
 "nbformat_minor": 0
}
