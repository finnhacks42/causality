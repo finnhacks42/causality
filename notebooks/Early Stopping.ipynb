{
 "cells": [
  {
   "cell_type": "code",
   "execution_count": 13,
   "metadata": {
    "collapsed": false
   },
   "outputs": [],
   "source": [
    "# suppose we run an experiment, in which the actual reward is samples from a distribution with mean 0. \n",
    "# However the number of trials is not fixed, instead we stop if, mu > .4 or n = 1000\n",
    "\n",
    "from scipy.stats import norm,bernoulli\n",
    "import numpy as np\n",
    "import matplotlib.pyplot as plt\n",
    "import seaborn as sns\n",
    "%matplotlib inline\n",
    "\n",
    "n = 5\n",
    "dist = bernoulli(.2)\n",
    "threshold = 0.3"
   ]
  },
  {
   "cell_type": "code",
   "execution_count": 14,
   "metadata": {
    "collapsed": false
   },
   "outputs": [
    {
     "name": "stdout",
     "output_type": "stream",
     "text": [
      "0.36476\n"
     ]
    }
   ],
   "source": [
    "simulations = 100000\n",
    "result = np.zeros(simulations)\n",
    "lastn = np.zeros(simulations)\n",
    "for s in range(simulations):\n",
    "    x = dist.rvs(n)\n",
    "    u = np.true_divide(x.cumsum(),np.arange(1,n+1))\n",
    "    exceeds = np.flatnonzero(u > threshold)\n",
    "    if len(exceeds) > 0:\n",
    "        result[s] = u[exceeds[0]]\n",
    "    else:\n",
    "        result[s] = u[-1]\n",
    "        lastn[s] = 1\n",
    "print result.mean()"
   ]
  },
  {
   "cell_type": "code",
   "execution_count": 15,
   "metadata": {
    "collapsed": false
   },
   "outputs": [
    {
     "data": {
      "image/png": "[encoded data removed]",
      "text/plain": [
       "<matplotlib.figure.Figure at 0x7f2c13cbb590>"
      ]
     },
     "metadata": {},
     "output_type": "display_data"
    }
   ],
   "source": [
    "sns.set_style(\"ticks\")\n",
    "values,counts = np.unique(result,return_counts = True)\n",
    "probs = counts/float(counts.sum())\n",
    "fig,ax =plt.subplots(figsize=(6,3))\n",
    "ax.vlines(values,0,probs,color=sns.color_palette()[0],linewidth=3)\n",
    "ax.set_xlim(0,1.01)\n",
    "ax.set_xlabel(\"$\\hat{\\mu}$\")\n",
    "ax.set_ylabel(\"$P(\\hat{\\mu})$\")\n",
    "xticks = [0,.2,.3333333,.4,.5,1]\n",
    "ax.set_xticks(xticks)\n",
    "ax.set_xticklabels([\"0\",\"0.2\",\"0.333.\",\"0.4\",\"0.5\",\"1\"])\n",
    "sns.despine()\n",
    "plt.tight_layout()\n",
    "fig.savefig('extreme_early_stopping.pdf', format='pdf', dpi=1200)"
   ]
  },
  {
   "cell_type": "code",
   "execution_count": null,
   "metadata": {
    "collapsed": false
   },
   "outputs": [],
   "source": [
    "plt.tight_layout()\n",
    "fig.savefig('extreme_early)stopping.pdf', format='pdf', dpi=1200)"
   ]
  },
  {
   "cell_type": "code",
   "execution_count": 182,
   "metadata": {
    "collapsed": true
   },
   "outputs": [],
   "source": [
    "i = np.flatnonzero(lastn)\n",
    "result2 = result[i]"
   ]
  },
  {
   "cell_type": "code",
   "execution_count": 183,
   "metadata": {
    "collapsed": false
   },
   "outputs": [
    {
     "data": {
      "text/plain": [
       "array([ 0.17,  0.22,  0.12, ...,  0.15,  0.16,  0.17])"
      ]
     },
     "execution_count": 183,
     "metadata": {},
     "output_type": "execute_result"
    }
   ],
   "source": [
    "result2"
   ]
  },
  {
   "cell_type": "code",
   "execution_count": 184,
   "metadata": {
    "collapsed": false
   },
   "outputs": [
    {
     "data": {
      "text/plain": [
       "371580"
      ]
     },
     "execution_count": 184,
     "metadata": {},
     "output_type": "execute_result"
    }
   ],
   "source": [
    "len(result2)"
   ]
  },
  {
   "cell_type": "code",
   "execution_count": 185,
   "metadata": {
    "collapsed": false
   },
   "outputs": [
    {
     "data": {
      "text/plain": [
       "0.18527754453953393"
      ]
     },
     "execution_count": 185,
     "metadata": {},
     "output_type": "execute_result"
    }
   ],
   "source": [
    "result2.mean()"
   ]
  },
  {
   "cell_type": "code",
   "execution_count": 112,
   "metadata": {
    "collapsed": false
   },
   "outputs": [
    {
     "name": "stdout",
     "output_type": "stream",
     "text": [
      "0.2001271\n"
     ]
    }
   ],
   "source": [
    "simulations = 100000\n",
    "result = np.zeros(simulations)\n",
    "for s in range(simulations):\n",
    "    x = dist.rvs(n)\n",
    "    result[s]=x.mean()\n",
    "print result.mean()"
   ]
  },
  {
   "cell_type": "code",
   "execution_count": 19,
   "metadata": {
    "collapsed": false
   },
   "outputs": [
    {
     "data": {
      "text/plain": [
       "0.40959999999999991"
      ]
     },
     "execution_count": 19,
     "metadata": {},
     "output_type": "execute_result"
    }
   ],
   "source": [
    "from scipy.stats import binom\n",
    "binom(5,.2).pmf(1)"
   ]
  },
  {
   "cell_type": "code",
   "execution_count": 21,
   "metadata": {
    "collapsed": false
   },
   "outputs": [],
   "source": [
    "# Computing a posterior. \n",
    "points = 100\n",
    "n = 5\n",
    "posterior = np.zeros(points)\n",
    "for i,p in enumerate(np.linspace(0,1,points)):\n",
    "    prior = 1.0/points # independent of p in this case (uniform)\n",
    "    likelyhood = binom(n,p).pmf(3)\n",
    "    posterior[i] = prior*likelyhood\n",
    "\n",
    "posterior = posterior/posterior.sum()    "
   ]
  },
  {
   "cell_type": "code",
   "execution_count": 23,
   "metadata": {
    "collapsed": false
   },
   "outputs": [
    {
     "data": {
      "text/plain": [
       "[<matplotlib.lines.Line2D at 0x7f2c16b9b750>]"
      ]
     },
     "execution_count": 23,
     "metadata": {},
     "output_type": "execute_result"
    },
    {
     "data": {
      "image/png": "[encoded data removed]",
      "text/plain": [
       "<matplotlib.figure.Figure at 0x7f2c13f35950>"
      ]
     },
     "metadata": {},
     "output_type": "display_data"
    }
   ],
   "source": [
    "plt.plot(np.linspace(0,1,points),posterior)"
   ]
  },
  {
   "cell_type": "code",
   "execution_count": null,
   "metadata": {
    "collapsed": true
   },
   "outputs": [],
   "source": [
    "# what does the posterior look like if we assume a different data generating model?"
   ]
  }
 ],
 "metadata": {
  "kernelspec": {
   "display_name": "Python 2",
   "language": "python",
   "name": "python2"
  },
  "language_info": {
   "codemirror_mode": {
    "name": "ipython",
    "version": 2
   },
   "file_extension": ".py",
   "mimetype": "text/x-python",
   "name": "python",
   "nbconvert_exporter": "python",
   "pygments_lexer": "ipython2",
   "version": "2.7.12"
  }
 },
 "nbformat": 4,
 "nbformat_minor": 0
}
