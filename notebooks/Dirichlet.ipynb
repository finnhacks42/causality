{
 "cells": [
  {
   "cell_type": "code",
   "execution_count": 2,
   "metadata": {
    "collapsed": true
   },
   "outputs": [],
   "source": [
    "#plot dirichlet distribution\n",
    "from scipy.stats import dirichlet\n",
    "import numpy as np"
   ]
  },
  {
   "cell_type": "code",
   "execution_count": 10,
   "metadata": {
    "collapsed": false
   },
   "outputs": [
    {
     "data": {
      "text/plain": [
       "array([[ 0.01869598,  0.26328094,  0.71802308],\n",
       "       [ 0.26887083,  0.3006838 ,  0.43044538],\n",
       "       [ 0.04750681,  0.36836094,  0.58413226],\n",
       "       [ 0.23468467,  0.47628907,  0.28902626],\n",
       "       [ 0.01630093,  0.57357326,  0.4101258 ],\n",
       "       [ 0.00204827,  0.63276255,  0.36518918],\n",
       "       [ 0.13664222,  0.45507749,  0.40828029],\n",
       "       [ 0.0690496 ,  0.29963848,  0.63131192],\n",
       "       [ 0.29946294,  0.53558533,  0.16495173],\n",
       "       [ 0.19240584,  0.36204521,  0.44554894]])"
      ]
     },
     "execution_count": 10,
     "metadata": {},
     "output_type": "execute_result"
    }
   ],
   "source": [
    "alpha = [1,3,4]\n",
    "dist = dirichlet(alpha)\n",
    "\n",
    "# plotting a 3d surface\n",
    "\n",
    "x = np.arange(6)\n",
    "y = np.arange(5)\n",
    "z = x * y[:,np.newaxis]\n",
    "\n",
    "dist.rvs(10)"
   ]
  },
  {
   "cell_type": "code",
   "execution_count": 6,
   "metadata": {
    "collapsed": false
   },
   "outputs": [
    {
     "data": {
      "text/plain": [
       "0.66647417706972456"
      ]
     },
     "execution_count": 6,
     "metadata": {},
     "output_type": "execute_result"
    }
   ],
   "source": [
    "dist.pdf([.1,.9])"
   ]
  },
  {
   "cell_type": "code",
   "execution_count": null,
   "metadata": {
    "collapsed": true
   },
   "outputs": [],
   "source": [
    "# need to get traingle to plot over. "
   ]
  },
  {
   "cell_type": "code",
   "execution_count": null,
   "metadata": {
    "collapsed": true
   },
   "outputs": [],
   "source": [
    "from stl_tools import numpy2stl\n",
    "\n",
    "from scipy.misc import lena, imresize\n",
    "from scipy.ndimage import gaussian_filter\n",
    "\n",
    "\n",
    "A = imresize(lena(), (256, 256))  # load Lena image, shrink in half\n",
    "A = gaussian_filter(A, 1)  # smoothing\n",
    "\n",
    "numpy2stl(A, \"examples/Lena.stl\", scale=0.1, solid=False)"
   ]
  }
 ],
 "metadata": {
  "kernelspec": {
   "display_name": "Python 2",
   "language": "python",
   "name": "python2"
  },
  "language_info": {
   "codemirror_mode": {
    "name": "ipython",
    "version": 2
   },
   "file_extension": ".py",
   "mimetype": "text/x-python",
   "name": "python",
   "nbconvert_exporter": "python",
   "pygments_lexer": "ipython2",
   "version": "2.7.12"
  }
 },
 "nbformat": 4,
 "nbformat_minor": 0
}
