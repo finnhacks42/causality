{
 "cells": [
  {
   "cell_type": "code",
   "execution_count": 4,
   "metadata": {},
   "outputs": [],
   "source": [
    "import numpy as np\n",
    "import seaborn as sns\n",
    "import matplotlib.pyplot as plt\n",
    "#from causalpy import LinearGaussianBN\n",
    "%matplotlib inline"
   ]
  },
  {
   "cell_type": "code",
   "execution_count": 2,
   "metadata": {},
   "outputs": [
    {
     "ename": "NameError",
     "evalue": "name 'LinearGaussianBN' is not defined",
     "output_type": "error",
     "traceback": [
      "\u001b[1;31m---------------------------------------------------------------------------\u001b[0m",
      "\u001b[1;31mNameError\u001b[0m                                 Traceback (most recent call last)",
      "\u001b[1;32m<ipython-input-2-55df93fd0dc5>\u001b[0m in \u001b[0;36m<module>\u001b[1;34m()\u001b[0m\n\u001b[1;32m----> 1\u001b[1;33m \u001b[0mmodel\u001b[0m \u001b[1;33m=\u001b[0m \u001b[0mLinearGaussianBN\u001b[0m\u001b[1;33m(\u001b[0m\u001b[1;33m)\u001b[0m\u001b[1;33m\u001b[0m\u001b[0m\n\u001b[0m\u001b[0;32m      2\u001b[0m \u001b[0mmodel\u001b[0m\u001b[1;33m.\u001b[0m\u001b[0madd_var\u001b[0m\u001b[1;33m(\u001b[0m\u001b[1;34m'Z'\u001b[0m\u001b[1;33m)\u001b[0m\u001b[1;33m\u001b[0m\u001b[0m\n\u001b[0;32m      3\u001b[0m \u001b[0mmodel\u001b[0m\u001b[1;33m.\u001b[0m\u001b[0madd_var\u001b[0m\u001b[1;33m(\u001b[0m\u001b[1;34m'A'\u001b[0m\u001b[1;33m,\u001b[0m\u001b[1;33m[\u001b[0m\u001b[1;34m'Z'\u001b[0m\u001b[1;33m]\u001b[0m\u001b[1;33m)\u001b[0m\u001b[1;33m\u001b[0m\u001b[0m\n\u001b[0;32m      4\u001b[0m \u001b[0mmodel\u001b[0m\u001b[1;33m.\u001b[0m\u001b[0madd_var\u001b[0m\u001b[1;33m(\u001b[0m\u001b[1;34m'B'\u001b[0m\u001b[1;33m,\u001b[0m\u001b[1;33m[\u001b[0m\u001b[1;34m'Z'\u001b[0m\u001b[1;33m]\u001b[0m\u001b[1;33m)\u001b[0m\u001b[1;33m\u001b[0m\u001b[0m\n\u001b[0;32m      5\u001b[0m \u001b[0mmodel\u001b[0m\u001b[1;33m.\u001b[0m\u001b[0madd_var\u001b[0m\u001b[1;33m(\u001b[0m\u001b[1;34m'C'\u001b[0m\u001b[1;33m)\u001b[0m\u001b[1;33m\u001b[0m\u001b[0m\n",
      "\u001b[1;31mNameError\u001b[0m: name 'LinearGaussianBN' is not defined"
     ]
    }
   ],
   "source": [
    "model = LinearGaussianBN()\n",
    "model.add_var('Z')\n",
    "model.add_var('A',['Z'])\n",
    "model.add_var('B',['Z'])\n",
    "model.add_var('C')\n",
    "model.add_var('D')\n",
    "model.add_var('Y',['Z','A','B','C','D'])\n",
    "\n",
    "p_y = model.observe(['A','B','C','D'],['a','b','c','d']).marginal(['Y'])"
   ]
  },
  {
   "cell_type": "code",
   "execution_count": 4,
   "metadata": {},
   "outputs": [],
   "source": [
    "model = LinearGaussianBN()\n",
    "model.add_var('Z')\n",
    "model.add_var('X',['Z'])\n",
    "model.add_var('Y',['Z'])\n",
    "\n",
    "p_y = model.marginal(['X','Y'])\n"
   ]
  },
  {
   "cell_type": "markdown",
   "metadata": {},
   "source": [
    "Assume the counterfactual variables $Y_t$ and $Y_c$ are jointly normal with a common variance.\n",
    "\n",
    "Their difference Y_t - Y_c will also be normal. "
   ]
  },
  {
   "cell_type": "markdown",
   "metadata": {},
   "source": [
    "## Counterfactual nature of regret"
   ]
  },
  {
   "cell_type": "code",
   "execution_count": 19,
   "metadata": {},
   "outputs": [
    {
     "data": {
      "text/plain": [
       "array([  1.91504473,   1.93123083,   1.94741692,   1.96360302,\n",
       "         1.97978912,   1.99597521,   2.01216131,   2.02834741,\n",
       "         2.0445335 ,   2.0607196 ,   2.0769057 ,   2.09309179,\n",
       "         2.10927789,   2.12546399,   2.14165008,   2.15783618,\n",
       "         2.17402228,   2.19020837,   2.20639447,   2.22258057,\n",
       "         2.23876666,   2.25495276,   2.27113886,   2.28732495,\n",
       "         2.30351105,   2.31969715,   2.33588324,   2.35206934,\n",
       "         2.36825544,   2.38444153,   2.40062763,   2.41681373,\n",
       "         2.43299982,   2.44918592,   2.46537202,   2.48155811,\n",
       "         2.49774421,   2.51393031,   2.5301164 ,   2.5463025 ,\n",
       "         2.5624886 ,   2.57867469,   2.59486079,   2.61104689,\n",
       "         2.62723298,   2.64341908,   2.65960518,   2.67579127,\n",
       "         2.69197737,   2.70816346,   2.72434956,   2.74053566,\n",
       "         2.75672175,   2.77290785,   2.78909395,   2.80528004,\n",
       "         2.82146614,   2.83765224,   2.85383833,   2.87002443,\n",
       "         2.88621053,   2.90239662,   2.91858272,   2.93476882,\n",
       "         2.95095491,   2.96714101,   2.98332711,   2.9995132 ,\n",
       "         3.0156993 ,   3.0318854 ,   3.04807149,   3.06425759,\n",
       "         3.08044369,   3.09662978,   3.11281588,   3.12900198,\n",
       "         3.14518807,   3.16137417,   3.17756027,   3.19374636,\n",
       "         3.20993246,   3.22611856,   3.24230465,   3.25849075,\n",
       "         3.27467685,   3.29086294,   3.30704904,   3.32323514,\n",
       "         3.33942123,   3.35560733,   3.37179343,   3.38797952,\n",
       "         3.40416562,   3.42035172,   3.43653781,   3.45272391,\n",
       "         3.46891001,   3.4850961 ,   3.5012822 ,   3.5174683 ,\n",
       "         3.53365439,   3.54984049,   3.56602659,   3.58221268,\n",
       "         3.59839878,   3.61458488,   3.63077097,   3.64695707,\n",
       "         3.66314317,   3.67932926,   3.69551536,   3.71170146,\n",
       "         3.72788755,   3.74407365,   3.76025975,   3.77644584,\n",
       "         3.79263194,   3.80881804,   3.82500413,   3.84119023,\n",
       "         3.85737633,   3.87356242,   3.88974852,   3.90593462,\n",
       "         3.92212071,   3.93830681,   3.95449291,   3.970679  ,\n",
       "         3.9868651 ,   4.0030512 ,   4.01923729,   4.03542339,\n",
       "         4.05160949,   4.06779558,   4.08398168,   4.10016778,\n",
       "         4.11635387,   4.13253997,   4.14872607,   4.16491216,\n",
       "         4.18109826,   4.19728436,   4.21347045,   4.22965655,\n",
       "         4.24584265,   4.26202874,   4.27821484,   4.29440094,\n",
       "         4.31058703,   4.32677313,   4.34295923,   4.35914532,\n",
       "         4.37533142,   4.39151752,   4.40770361,   4.42388971,\n",
       "         4.44007581,   4.4562619 ,   4.472448  ,   4.4886341 ,\n",
       "         4.50482019,   4.52100629,   4.53719238,   4.55337848,\n",
       "         4.56956458,   4.58575067,   4.60193677,   4.61812287,\n",
       "         4.63430896,   4.65049506,   4.66668116,   4.68286725,\n",
       "         4.69905335,   4.71523945,   4.73142554,   4.74761164,\n",
       "         4.76379774,   4.77998383,   4.79616993,   4.81235603,\n",
       "         4.82854212,   4.84472822,   4.86091432,   4.87710041,\n",
       "         4.89328651,   4.90947261,   4.9256587 ,   4.9418448 ,\n",
       "         4.9580309 ,   4.97421699,   4.99040309,   5.00658919,\n",
       "         5.02277528,   5.03896138,   5.05514748,   5.07133357,\n",
       "         5.08751967,   5.10370577,   5.11989186,   5.13607796,\n",
       "         5.15226406,   5.16845015,   5.18463625,   5.20082235,\n",
       "         5.21700844,   5.23319454,   5.24938064,   5.26556673,\n",
       "         5.28175283,   5.29793893,   5.31412502,   5.33031112,\n",
       "         5.34649722,   5.36268331,   5.37886941,   5.39505551,\n",
       "         5.4112416 ,   5.4274277 ,   5.4436138 ,   5.45979989,\n",
       "         5.47598599,   5.49217209,   5.50835818,   5.52454428,\n",
       "         5.54073038,   5.55691647,   5.57310257,   5.58928867,\n",
       "         5.60547476,   5.62166086,   5.63784696,   5.65403305,\n",
       "         5.67021915,   5.68640525,   5.70259134,   5.71877744,\n",
       "         5.73496354,   5.75114963,   5.76733573,   5.78352183,\n",
       "         5.79970792,   5.81589402,   5.83208012,   5.84826621,\n",
       "         5.86445231,   5.88063841,   5.8968245 ,   5.9130106 ,\n",
       "         5.9291967 ,   5.94538279,   5.96156889,   5.97775499,\n",
       "         5.99394108,   6.01012718,   6.02631328,   6.04249937,\n",
       "         6.05868547,   6.07487157,   6.09105766,   6.10724376,\n",
       "         6.12342986,   6.13961595,   6.15580205,   6.17198815,\n",
       "         6.18817424,   6.20436034,   6.22054644,   6.23673253,\n",
       "         6.25291863,   6.26910473,   6.28529082,   6.30147692,\n",
       "         6.31766302,   6.33384911,   6.35003521,   6.3662213 ,\n",
       "         6.3824074 ,   6.3985935 ,   6.41477959,   6.43096569,\n",
       "         6.44715179,   6.46333788,   6.47952398,   6.49571008,\n",
       "         6.51189617,   6.52808227,   6.54426837,   6.56045446,\n",
       "         6.57664056,   6.59282666,   6.60901275,   6.62519885,\n",
       "         6.64138495,   6.65757104,   6.67375714,   6.68994324,\n",
       "         6.70612933,   6.72231543,   6.73850153,   6.75468762,\n",
       "         6.77087372,   6.78705982,   6.80324591,   6.81943201,\n",
       "         6.83561811,   6.8518042 ,   6.8679903 ,   6.8841764 ,\n",
       "         6.90036249,   6.91654859,   6.93273469,   6.94892078,\n",
       "         6.96510688,   6.98129298,   6.99747907,   7.01366517,\n",
       "         7.02985127,   7.04603736,   7.06222346,   7.07840956,\n",
       "         7.09459565,   7.11078175,   7.12696785,   7.14315394,\n",
       "         7.15934004,   7.17552614,   7.19171223,   7.20789833,\n",
       "         7.22408443,   7.24027052,   7.25645662,   7.27264272,\n",
       "         7.28882881,   7.30501491,   7.32120101,   7.3373871 ,\n",
       "         7.3535732 ,   7.3697593 ,   7.38594539,   7.40213149,\n",
       "         7.41831759,   7.43450368,   7.45068978,   7.46687588,\n",
       "         7.48306197,   7.49924807,   7.51543417,   7.53162026,\n",
       "         7.54780636,   7.56399246,   7.58017855,   7.59636465,\n",
       "         7.61255075,   7.62873684,   7.64492294,   7.66110904,\n",
       "         7.67729513,   7.69348123,   7.70966733,   7.72585342,\n",
       "         7.74203952,   7.75822562,   7.77441171,   7.79059781,\n",
       "         7.80678391,   7.82297   ,   7.8391561 ,   7.8553422 ,\n",
       "         7.87152829,   7.88771439,   7.90390049,   7.92008658,\n",
       "         7.93627268,   7.95245878,   7.96864487,   7.98483097,\n",
       "         8.00101707,   8.01720316,   8.03338926,   8.04957536,\n",
       "         8.06576145,   8.08194755,   8.09813365,   8.11431974,\n",
       "         8.13050584,   8.14669194,   8.16287803,   8.17906413,\n",
       "         8.19525022,   8.21143632,   8.22762242,   8.24380851,\n",
       "         8.25999461,   8.27618071,   8.2923668 ,   8.3085529 ,\n",
       "         8.324739  ,   8.34092509,   8.35711119,   8.37329729,\n",
       "         8.38948338,   8.40566948,   8.42185558,   8.43804167,\n",
       "         8.45422777,   8.47041387,   8.48659996,   8.50278606,\n",
       "         8.51897216,   8.53515825,   8.55134435,   8.56753045,\n",
       "         8.58371654,   8.59990264,   8.61608874,   8.63227483,\n",
       "         8.64846093,   8.66464703,   8.68083312,   8.69701922,\n",
       "         8.71320532,   8.72939141,   8.74557751,   8.76176361,\n",
       "         8.7779497 ,   8.7941358 ,   8.8103219 ,   8.82650799,\n",
       "         8.84269409,   8.85888019,   8.87506628,   8.89125238,\n",
       "         8.90743848,   8.92362457,   8.93981067,   8.95599677,\n",
       "         8.97218286,   8.98836896,   9.00455506,   9.02074115,\n",
       "         9.03692725,   9.05311335,   9.06929944,   9.08548554,\n",
       "         9.10167164,   9.11785773,   9.13404383,   9.15022993,\n",
       "         9.16641602,   9.18260212,   9.19878822,   9.21497431,\n",
       "         9.23116041,   9.24734651,   9.2635326 ,   9.2797187 ,\n",
       "         9.2959048 ,   9.31209089,   9.32827699,   9.34446309,\n",
       "         9.36064918,   9.37683528,   9.39302138,   9.40920747,\n",
       "         9.42539357,   9.44157967,   9.45776576,   9.47395186,\n",
       "         9.49013796,   9.50632405,   9.52251015,   9.53869625,\n",
       "         9.55488234,   9.57106844,   9.58725454,   9.60344063,\n",
       "         9.61962673,   9.63581283,   9.65199892,   9.66818502,\n",
       "         9.68437112,   9.70055721,   9.71674331,   9.73292941,\n",
       "         9.7491155 ,   9.7653016 ,   9.7814877 ,   9.79767379,\n",
       "         9.81385989,   9.83004599,   9.84623208,   9.86241818,\n",
       "         9.87860428,   9.89479037,   9.91097647,   9.92716257,\n",
       "         9.94334866,   9.95953476,   9.97572086,   9.99190695,\n",
       "        10.00809305,  10.02427914,  10.04046524,  10.05665134,\n",
       "        10.07283743,  10.08902353,  10.10520963,  10.12139572,\n",
       "        10.13758182,  10.15376792,  10.16995401,  10.18614011,\n",
       "        10.20232621,  10.2185123 ,  10.2346984 ,  10.2508845 ,\n",
       "        10.26707059,  10.28325669,  10.29944279,  10.31562888,\n",
       "        10.33181498,  10.34800108,  10.36418717,  10.38037327,\n",
       "        10.39655937,  10.41274546,  10.42893156,  10.44511766,\n",
       "        10.46130375,  10.47748985,  10.49367595,  10.50986204,\n",
       "        10.52604814,  10.54223424,  10.55842033,  10.57460643,\n",
       "        10.59079253,  10.60697862,  10.62316472,  10.63935082,\n",
       "        10.65553691,  10.67172301,  10.68790911,  10.7040952 ,\n",
       "        10.7202813 ,  10.7364674 ,  10.75265349,  10.76883959,\n",
       "        10.78502569,  10.80121178,  10.81739788,  10.83358398,\n",
       "        10.84977007,  10.86595617,  10.88214227,  10.89832836,\n",
       "        10.91451446,  10.93070056,  10.94688665,  10.96307275,\n",
       "        10.97925885,  10.99544494,  11.01163104,  11.02781714,\n",
       "        11.04400323,  11.06018933,  11.07637543,  11.09256152,\n",
       "        11.10874762,  11.12493372,  11.14111981,  11.15730591,\n",
       "        11.17349201,  11.1896781 ,  11.2058642 ,  11.2220503 ,\n",
       "        11.23823639,  11.25442249,  11.27060859,  11.28679468,\n",
       "        11.30298078,  11.31916688,  11.33535297,  11.35153907,\n",
       "        11.36772517,  11.38391126,  11.40009736,  11.41628346,\n",
       "        11.43246955,  11.44865565,  11.46484175,  11.48102784,\n",
       "        11.49721394,  11.51340004,  11.52958613,  11.54577223,\n",
       "        11.56195833,  11.57814442,  11.59433052,  11.61051662,\n",
       "        11.62670271,  11.64288881,  11.65907491,  11.675261  ,\n",
       "        11.6914471 ,  11.7076332 ,  11.72381929,  11.74000539,\n",
       "        11.75619149,  11.77237758,  11.78856368,  11.80474978,\n",
       "        11.82093587,  11.83712197,  11.85330806,  11.86949416,\n",
       "        11.88568026,  11.90186635,  11.91805245,  11.93423855,\n",
       "        11.95042464,  11.96661074,  11.98279684,  11.99898293,\n",
       "        12.01516903,  12.03135513,  12.04754122,  12.06372732,\n",
       "        12.07991342,  12.09609951,  12.11228561,  12.12847171,\n",
       "        12.1446578 ,  12.1608439 ,  12.17703   ,  12.19321609,\n",
       "        12.20940219,  12.22558829,  12.24177438,  12.25796048,\n",
       "        12.27414658,  12.29033267,  12.30651877,  12.32270487,\n",
       "        12.33889096,  12.35507706,  12.37126316,  12.38744925,\n",
       "        12.40363535,  12.41982145,  12.43600754,  12.45219364,\n",
       "        12.46837974,  12.48456583,  12.50075193,  12.51693803,\n",
       "        12.53312412,  12.54931022,  12.56549632,  12.58168241,\n",
       "        12.59786851,  12.61405461,  12.6302407 ,  12.6464268 ,\n",
       "        12.6626129 ,  12.67879899,  12.69498509,  12.71117119,\n",
       "        12.72735728,  12.74354338,  12.75972948,  12.77591557,\n",
       "        12.79210167,  12.80828777,  12.82447386,  12.84065996,\n",
       "        12.85684606,  12.87303215,  12.88921825,  12.90540435,\n",
       "        12.92159044,  12.93777654,  12.95396264,  12.97014873,\n",
       "        12.98633483,  13.00252093,  13.01870702,  13.03489312,\n",
       "        13.05107922,  13.06726531,  13.08345141,  13.09963751,\n",
       "        13.1158236 ,  13.1320097 ,  13.1481958 ,  13.16438189,\n",
       "        13.18056799,  13.19675409,  13.21294018,  13.22912628,\n",
       "        13.24531238,  13.26149847,  13.27768457,  13.29387067,\n",
       "        13.31005676,  13.32624286,  13.34242896,  13.35861505,\n",
       "        13.37480115,  13.39098725,  13.40717334,  13.42335944,\n",
       "        13.43954554,  13.45573163,  13.47191773,  13.48810383,\n",
       "        13.50428992,  13.52047602,  13.53666212,  13.55284821,\n",
       "        13.56903431,  13.58522041,  13.6014065 ,  13.6175926 ,\n",
       "        13.6337787 ,  13.64996479,  13.66615089,  13.68233698,\n",
       "        13.69852308,  13.71470918,  13.73089527,  13.74708137,\n",
       "        13.76326747,  13.77945356,  13.79563966,  13.81182576,\n",
       "        13.82801185,  13.84419795,  13.86038405,  13.87657014,\n",
       "        13.89275624,  13.90894234,  13.92512843,  13.94131453,\n",
       "        13.95750063,  13.97368672,  13.98987282,  14.00605892,\n",
       "        14.02224501,  14.03843111,  14.05461721,  14.0708033 ,\n",
       "        14.0869894 ,  14.1031755 ,  14.11936159,  14.13554769,\n",
       "        14.15173379,  14.16791988,  14.18410598,  14.20029208,\n",
       "        14.21647817,  14.23266427,  14.24885037,  14.26503646,\n",
       "        14.28122256,  14.29740866,  14.31359475,  14.32978085,\n",
       "        14.34596695,  14.36215304,  14.37833914,  14.39452524,\n",
       "        14.41071133,  14.42689743,  14.44308353,  14.45926962,\n",
       "        14.47545572,  14.49164182,  14.50782791,  14.52401401,\n",
       "        14.54020011,  14.5563862 ,  14.5725723 ,  14.5887584 ,\n",
       "        14.60494449,  14.62113059,  14.63731669,  14.65350278,\n",
       "        14.66968888,  14.68587498,  14.70206107,  14.71824717,\n",
       "        14.73443327,  14.75061936,  14.76680546,  14.78299156,\n",
       "        14.79917765,  14.81536375,  14.83154985,  14.84773594,\n",
       "        14.86392204,  14.88010814,  14.89629423,  14.91248033,\n",
       "        14.92866643,  14.94485252,  14.96103862,  14.97722472,\n",
       "        14.99341081,  15.00959691,  15.02578301,  15.0419691 ,\n",
       "        15.0581552 ,  15.0743413 ,  15.09052739,  15.10671349,\n",
       "        15.12289959,  15.13908568,  15.15527178,  15.17145788,\n",
       "        15.18764397,  15.20383007,  15.22001617,  15.23620226,\n",
       "        15.25238836,  15.26857446,  15.28476055,  15.30094665,\n",
       "        15.31713275,  15.33331884,  15.34950494,  15.36569104,\n",
       "        15.38187713,  15.39806323,  15.41424933,  15.43043542,\n",
       "        15.44662152,  15.46280762,  15.47899371,  15.49517981,\n",
       "        15.5113659 ,  15.527552  ,  15.5437381 ,  15.55992419,\n",
       "        15.57611029,  15.59229639,  15.60848248,  15.62466858,\n",
       "        15.64085468,  15.65704077,  15.67322687,  15.68941297,\n",
       "        15.70559906,  15.72178516,  15.73797126,  15.75415735,\n",
       "        15.77034345,  15.78652955,  15.80271564,  15.81890174,\n",
       "        15.83508784,  15.85127393,  15.86746003,  15.88364613,\n",
       "        15.89983222,  15.91601832,  15.93220442,  15.94839051,\n",
       "        15.96457661,  15.98076271,  15.9969488 ,  16.0131349 ,\n",
       "        16.029321  ,  16.04550709,  16.06169319,  16.07787929,\n",
       "        16.09406538,  16.11025148,  16.12643758,  16.14262367,\n",
       "        16.15880977,  16.17499587,  16.19118196,  16.20736806,\n",
       "        16.22355416,  16.23974025,  16.25592635,  16.27211245,\n",
       "        16.28829854,  16.30448464,  16.32067074,  16.33685683,\n",
       "        16.35304293,  16.36922903,  16.38541512,  16.40160122,\n",
       "        16.41778732,  16.43397341,  16.45015951,  16.46634561,\n",
       "        16.4825317 ,  16.4987178 ,  16.5149039 ,  16.53108999,\n",
       "        16.54727609,  16.56346219,  16.57964828,  16.59583438,\n",
       "        16.61202048,  16.62820657,  16.64439267,  16.66057877,\n",
       "        16.67676486,  16.69295096,  16.70913706,  16.72532315,\n",
       "        16.74150925,  16.75769535,  16.77388144,  16.79006754,\n",
       "        16.80625364,  16.82243973,  16.83862583,  16.85481193,\n",
       "        16.87099802,  16.88718412,  16.90337022,  16.91955631,\n",
       "        16.93574241,  16.95192851,  16.9681146 ,  16.9843007 ,\n",
       "        17.0004868 ,  17.01667289,  17.03285899,  17.04904509,\n",
       "        17.06523118,  17.08141728,  17.09760338,  17.11378947,\n",
       "        17.12997557,  17.14616167,  17.16234776,  17.17853386,\n",
       "        17.19471996,  17.21090605,  17.22709215,  17.24327825,\n",
       "        17.25946434,  17.27565044,  17.29183654,  17.30802263,\n",
       "        17.32420873,  17.34039482,  17.35658092,  17.37276702,\n",
       "        17.38895311,  17.40513921,  17.42132531,  17.4375114 ,\n",
       "        17.4536975 ,  17.4698836 ,  17.48606969,  17.50225579,\n",
       "        17.51844189,  17.53462798,  17.55081408,  17.56700018,\n",
       "        17.58318627,  17.59937237,  17.61555847,  17.63174456,\n",
       "        17.64793066,  17.66411676,  17.68030285,  17.69648895,\n",
       "        17.71267505,  17.72886114,  17.74504724,  17.76123334,\n",
       "        17.77741943,  17.79360553,  17.80979163,  17.82597772,\n",
       "        17.84216382,  17.85834992,  17.87453601,  17.89072211,\n",
       "        17.90690821,  17.9230943 ,  17.9392804 ,  17.9554665 ,\n",
       "        17.97165259,  17.98783869,  18.00402479,  18.02021088,\n",
       "        18.03639698,  18.05258308,  18.06876917,  18.08495527])"
      ]
     },
     "execution_count": 19,
     "metadata": {},
     "output_type": "execute_result"
    }
   ],
   "source": [
    "regret_dist = norm(loc=T*(mu_t - mu_c),scale = np.sqrt(T*2*(1-rho)*s**2))\n"
   ]
  },
  {
   "cell_type": "code",
   "execution_count": 18,
   "metadata": {
    "collapsed": true
   },
   "outputs": [],
   "source": [
    "np.linspace?"
   ]
  },
  {
   "cell_type": "code",
   "execution_count": 25,
   "metadata": {},
   "outputs": [
    {
     "data": {
      "image/png": "[encoded data removed]",
      "text/plain": [
       "<matplotlib.figure.Figure at 0x7fc75d8f7410>"
      ]
     },
     "metadata": {},
     "output_type": "display_data"
    },
    {
     "data": {
      "image/png": "[encoded data removed]",
      "text/plain": [
       "<matplotlib.figure.Figure at 0x7fc75da6f210>"
      ]
     },
     "metadata": {},
     "output_type": "display_data"
    }
   ],
   "source": [
    "# plot the marginals and the individual causal effect distributions.\n",
    "from scipy.stats import norm\n",
    "\n",
    "def regret_dist(mu_t,mu_c,s,rho,T):\n",
    "    return norm(loc=T*(mu_t - mu_c),scale = np.sqrt(T*2*(1-rho)*s**2))\n",
    "    \n",
    "\n",
    "x = np.linspace(-3.5,4.5,1000)\n",
    "\n",
    "s = 1\n",
    "mu_t = 1\n",
    "mu_c = 0\n",
    "T = 10\n",
    "\n",
    "py_do_t = norm.pdf(x,loc = mu_t ,scale=s)\n",
    "py_do_c = norm.pdf(x,loc = mu_c, scale=s)\n",
    "\n",
    "#sns.set_style(\"whitegrid\")\n",
    "sns.set_style(\"ticks\")\n",
    "\n",
    "\n",
    "fig,ax = plt.subplots(1,figsize=(5,3))\n",
    "\n",
    "ax.plot(x,py_do_t,label=\"$P(Y^1)$\")\n",
    "ax.plot(x,py_do_c,label = \"$P(Y^2$)\")\n",
    "ax.set_xlabel(\"$Y$\")\n",
    "ax.legend(loc=\"upper right\")\n",
    "ax.yaxis.set_visible(False)\n",
    "sns.despine()\n",
    "ax.spines['left'].set_visible(False)\n",
    "plt.tight_layout()\n",
    "fig.savefig('counterfactual_nonidentify_a.pdf', format='pdf', dpi=1200)\n",
    "\n",
    "fig2,ax2 = plt.subplots(1,figsize=(5,3))\n",
    "\n",
    "regret_dist1 = regret_dist(mu_t,mu_c,s,.99,T)\n",
    "regret_dist2 = regret_dist(mu_t,mu_c,s,0,T)\n",
    "x = np.linspace(*regret_dist2.ppf([0.1,0.9]),num=1000)\n",
    "\n",
    "ax2.plot(x,regret_dist1.pdf(x),label = \"$P(R_T | \\\\rho = .99)$\",color=sns.color_palette()[2])\n",
    "ax2.plot(x,regret_dist2.pdf(x),label = \"$P(R_T | \\\\rho = 0)$\",color=sns.color_palette()[3])\n",
    "\n",
    "#ax[1].plot(x,tau(x,mu_t,mu_c,s,-.99),label = \"$f(\\\\tau | \\\\rho = -.99)$\")\n",
    "ax2.set_xlabel(\"$R_T$\")\n",
    "ax2.legend(loc=\"upper right\")\n",
    "ax2.yaxis.set_visible(False)\n",
    "sns.despine()\n",
    "ax2.spines['left'].set_visible(False)\n",
    "plt.tight_layout()\n",
    "fig2.savefig('counterfactual_nonidentify_b.pdf', format='pdf', dpi=1200)"
   ]
  },
  {
   "cell_type": "markdown",
   "metadata": {},
   "source": [
    "## Original problem modified from Dawid"
   ]
  },
  {
   "cell_type": "code",
   "execution_count": 5,
   "metadata": {},
   "outputs": [
    {
     "data": {
      "image/png": "[encoded data removed]",
      "text/plain": [
       "<matplotlib.figure.Figure at 0x7fc7608d3350>"
      ]
     },
     "metadata": {},
     "output_type": "display_data"
    },
    {
     "data": {
      "image/png": "[encoded data removed]",
      "text/plain": [
       "<matplotlib.figure.Figure at 0x7fc75e2f62d0>"
      ]
     },
     "metadata": {},
     "output_type": "display_data"
    }
   ],
   "source": [
    "# plot the marginals and the individual causal effect distributions.\n",
    "from scipy.stats import norm\n",
    "\n",
    "def tau(x,mu_t,mu_c,s,rho):\n",
    "    return norm.pdf(x,loc=mu_t - mu_c,scale = np.sqrt(2*(1-rho)*s**2))\n",
    "\n",
    "x = np.linspace(-3.5,4.5,1000)\n",
    "\n",
    "s = 1\n",
    "rho = -0.99\n",
    "mu_t = 1\n",
    "mu_c = 0\n",
    "\n",
    "py_do_t = norm.pdf(x,loc = mu_t ,scale=s)\n",
    "py_do_c = norm.pdf(x,loc = mu_c, scale=s)\n",
    "\n",
    "#sns.set_style(\"whitegrid\")\n",
    "sns.set_style(\"ticks\")\n",
    "\n",
    "\n",
    "fig,ax = plt.subplots(1,figsize=(5,3))\n",
    "\n",
    "ax.plot(x,py_do_t,label=\"$f(Y^1)$\")\n",
    "ax.plot(x,py_do_c,label = \"$f(Y^0$)\")\n",
    "ax.set_xlabel(\"$Y$\")\n",
    "ax.legend(loc=\"upper right\")\n",
    "ax.yaxis.set_visible(False)\n",
    "sns.despine()\n",
    "ax.spines['left'].set_visible(False)\n",
    "plt.tight_layout()\n",
    "fig.savefig('counterfactual_nonidentify_a.pdf', format='pdf', dpi=1200)\n",
    "\n",
    "fig2,ax2 = plt.subplots(1,figsize=(5,3))\n",
    "ax2.plot(x,tau(x,mu_t,mu_c,s,-.99),label = \"$f(\\\\tau | \\\\rho = .99)$\",color=sns.color_palette()[2])\n",
    "ax2.plot(x,tau(x,mu_t,mu_c,s,0),label = \"$f(\\\\tau | \\\\rho = 0)$\",color=sns.color_palette()[3])\n",
    "#ax[1].plot(x,tau(x,mu_t,mu_c,s,-.99),label = \"$f(\\\\tau | \\\\rho = -.99)$\")\n",
    "ax2.set_xlabel(\"$\\\\tau = Y^1 - Y^0$\")\n",
    "ax2.legend(loc=\"upper right\")\n",
    "ax2.yaxis.set_visible(False)\n",
    "sns.despine()\n",
    "ax2.spines['left'].set_visible(False)\n",
    "plt.tight_layout()\n",
    "fig2.savefig('counterfactual_nonidentify_b.pdf', format='pdf', dpi=1200)"
   ]
  },
  {
   "cell_type": "code",
   "execution_count": 53,
   "metadata": {},
   "outputs": [
    {
     "data": {
      "image/png": "[encoded data removed]",
      "text/plain": [
       "<matplotlib.figure.Figure at 0x7f3bd4405d50>"
      ]
     },
     "metadata": {},
     "output_type": "display_data"
    }
   ],
   "source": [
    "current_palette = sns.color_palette()\n",
    "sns.palplot(current_palette)"
   ]
  },
  {
   "cell_type": "code",
   "execution_count": 77,
   "metadata": {},
   "outputs": [
    {
     "data": {
      "text/plain": [
       "(0.7686274509803922, 0.3058823529411765, 0.3215686274509804)"
      ]
     },
     "execution_count": 77,
     "metadata": {},
     "output_type": "execute_result"
    }
   ],
   "source": [
    "current_palette[2]"
   ]
  },
  {
   "cell_type": "code",
   "execution_count": 73,
   "metadata": {},
   "outputs": [
    {
     "data": {
      "image/png": "[encoded data removed]",
      "text/plain": [
       "<matplotlib.figure.Figure at 0x7f3bcddbb710>"
      ]
     },
     "metadata": {},
     "output_type": "display_data"
    }
   ],
   "source": [
    "sns.palplot(sns.cubehelix_palette(3,start=0, rot=-.9))"
   ]
  },
  {
   "cell_type": "code",
   "execution_count": 74,
   "metadata": {},
   "outputs": [
    {
     "data": {
      "image/png": "[encoded data removed]",
      "text/plain": [
       "<matplotlib.figure.Figure at 0x7f3bcdc70910>"
      ]
     },
     "metadata": {},
     "output_type": "display_data"
    }
   ],
   "source": [
    "sns.choose_dark_palette()"
   ]
  },
  {
   "cell_type": "code",
   "execution_count": null,
   "metadata": {
    "collapsed": true
   },
   "outputs": [],
   "source": []
  },
  {
   "cell_type": "markdown",
   "metadata": {},
   "source": [
    "There is a confounder effecting how well people do both with and without treatment. If we observed this confounder, then we would choose the best course of action for each individual depending on their observed characteristics. \n",
    "\n",
    "If the variance is low (for the effect of the treatment) then looking for personalization characteristics is less of a priority. \n",
    "\n",
    "\n",
    "Assume with have a large experimental data set. \n",
    "\n",
    "The marginals are the same. \n",
    "\n",
    "Imagine we have a hidden attribute that determines how well you will do (either in treatment and control). Since this attribute is not observed, there can be significant variance for both the marginal distributions over treatment and control. However, the true individual causal effect has very low variance. \n",
    "\n",
    "What if we were able to observe this hidden attribute? \n",
    "\n",
    "$Y_t $"
   ]
  },
  {
   "cell_type": "code",
   "execution_count": 21,
   "metadata": {},
   "outputs": [
    {
     "data": {
      "text/plain": [
       "<seaborn.axisgrid.JointGrid at 0x7fac34314350>"
      ]
     },
     "execution_count": 21,
     "metadata": {},
     "output_type": "execute_result"
    },
    {
     "data": {
      "image/png": "[encoded data removed]",
      "text/plain": [
       "<matplotlib.figure.Figure at 0x7fac343140d0>"
      ]
     },
     "metadata": {},
     "output_type": "display_data"
    }
   ],
   "source": [
    "mean = np.asarray([3,1])\n",
    "cov = np.asarray([[1,0],[0,1]])\n",
    "Y_cf = np.random.multivariate_normal(mean, cov, size = 1000) # this seems to pre-suppose a joint distribution is properly defined.\n",
    "Y_t,Y_c = Y_cf[:,0],Y_cf[:,1]\n",
    "sns.jointplot(x=Y_t, y=Y_c, kind=\"kde\")"
   ]
  },
  {
   "cell_type": "code",
   "execution_count": 22,
   "metadata": {},
   "outputs": [
    {
     "data": {
      "text/plain": [
       "(array([   6.,   21.,   69.,  134.,  233.,  252.,  170.,   76.,   30.,    9.]),\n",
       " array([-2.5721533 , -1.68565492, -0.79915653,  0.08734185,  0.97384023,\n",
       "         1.86033861,  2.746837  ,  3.63333538,  4.51983376,  5.40633215,\n",
       "         6.29283053]),\n",
       " <a list of 10 Patch objects>)"
      ]
     },
     "execution_count": 22,
     "metadata": {},
     "output_type": "execute_result"
    },
    {
     "data": {
      "image/png": "[encoded data removed]",
      "text/plain": [
       "<matplotlib.figure.Figure at 0x7fac3430b7d0>"
      ]
     },
     "metadata": {},
     "output_type": "display_data"
    }
   ],
   "source": [
    "ICE = Y_t - Y_c\n",
    "plt.hist(ICE)"
   ]
  },
  {
   "cell_type": "code",
   "execution_count": null,
   "metadata": {
    "collapsed": true
   },
   "outputs": [],
   "source": [
    "P(Y|do(T=t))\n",
    "P(Y|do(T=c))"
   ]
  }
 ],
 "metadata": {
  "kernelspec": {
   "display_name": "Python 2",
   "language": "python",
   "name": "python2"
  },
  "language_info": {
   "codemirror_mode": {
    "name": "ipython",
    "version": 2
   },
   "file_extension": ".py",
   "mimetype": "text/x-python",
   "name": "python",
   "nbconvert_exporter": "python",
   "pygments_lexer": "ipython2",
   "version": "2.7.12"
  }
 },
 "nbformat": 4,
 "nbformat_minor": 1
}
