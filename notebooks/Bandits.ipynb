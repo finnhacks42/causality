{
 "cells": [
  {
   "cell_type": "code",
   "execution_count": 5,
   "metadata": {
    "collapsed": true
   },
   "outputs": [],
   "source": [
    "import numpy as np\n",
    "import matplotlib.pyplot as plt\n",
    "from causalpy.bandits import BasicBernoulliModel\n",
    "import seaborn as sns\n",
    "%matplotlib inline"
   ]
  },
  {
   "cell_type": "markdown",
   "metadata": {},
   "source": [
    "## Joint distribution over rewards\n",
    "Does the joint distribution over rewards make any difference to the distribution over regret? (not to the expectation). "
   ]
  },
  {
   "cell_type": "code",
   "execution_count": 164,
   "metadata": {},
   "outputs": [
    {
     "name": "stdout",
     "output_type": "stream",
     "text": [
      "0.1 0.4 0.5 1.11022302463e-16\n",
      "120.04494 6.92481771575\n",
      "99.95831 7.0480090766\n",
      "20.08663 177.287505243\n"
     ]
    }
   ],
   "source": [
    "# lets have assume \n",
    "from numpy.random import choice\n",
    "k = 2\n",
    "p = 0.5\n",
    "q = 0.6\n",
    "a = q-p\n",
    "\n",
    "b = p-a\n",
    "c = q-a\n",
    "d = 1+a-p-q\n",
    "print a,b,c,d\n",
    "\n",
    "probs = np.asarray([a,b,c,d])\n",
    "\n",
    "reward_vecs = np.asarray([[1,1],[1,0],[0,1],[0,0]])\n",
    "v = np.arange(len(reward_vecs))\n",
    "\n",
    "T = 200\n",
    "simulations = 100000\n",
    "\n",
    "plays = np.random.binomial(1,.5,size=T*simulations)\n",
    "r = reward_vecs[choice(v,p=probs,size=T*simulations)]\n",
    "\n",
    "player_reward = r[np.arange(len(plays)),plays].reshape(simulations,T).sum(axis=1)\n",
    "arm1_reward = r[np.arange(len(plays)),np.zeros(len(plays),dtype=int)].reshape(simulations,T).sum(axis=1)\n",
    "arm2_reward = r[np.arange(len(plays)),np.ones(len(plays),dtype=int)].reshape(simulations,T).sum(axis=1)\n",
    "\n",
    "\n",
    "#print player_reward.mean(),player_reward.std()\n",
    "print arm2_reward.mean(), arm2_reward.std()\n",
    "print arm1_reward.mean(), arm1_reward.std()\n",
    "d = arm2_reward - arm1_reward\n",
    "print d.mean(),d.std()**2\n",
    "\n"
   ]
  },
  {
   "cell_type": "code",
   "execution_count": 163,
   "metadata": {},
   "outputs": [
    {
     "data": {
      "text/plain": [
       "178.0"
      ]
     },
     "execution_count": 163,
     "metadata": {},
     "output_type": "execute_result"
    }
   ],
   "source": [
    "(p*(1-p)+q*(1-q)-2*(a-p*q))*T"
   ]
  },
  {
   "cell_type": "code",
   "execution_count": 131,
   "metadata": {},
   "outputs": [
    {
     "data": {
      "text/plain": [
       "86742"
      ]
     },
     "execution_count": 131,
     "metadata": {},
     "output_type": "execute_result"
    }
   ],
   "source": [
    "optimal_reward = np.max(r.reshape(simulations,T,2).sum(axis=1),axis=1)\n",
    "\n",
    "\n",
    "d = optimal_reward - player_reward\n",
    "d2 = arm2_reward-player_reward\n",
    "\n",
    "plt.hist(d)\n",
    "print d.mean(),d.std()\n",
    "\n",
    "print d2.mean(),d2.std()"
   ]
  },
  {
   "cell_type": "code",
   "execution_count": 104,
   "metadata": {},
   "outputs": [
    {
     "data": {
      "text/plain": [
       "array([[50, 48],\n",
       "       [56, 48],\n",
       "       [60, 51],\n",
       "       [44, 50],\n",
       "       [61, 53]])"
      ]
     },
     "execution_count": 104,
     "metadata": {},
     "output_type": "execute_result"
    }
   ],
   "source": [
    "r.reshape(simulations,T,2).sum(axis=1)"
   ]
  },
  {
   "cell_type": "code",
   "execution_count": 105,
   "metadata": {},
   "outputs": [
    {
     "data": {
      "text/plain": [
       "array([50, 56, 60, 50, 61])"
      ]
     },
     "execution_count": 105,
     "metadata": {},
     "output_type": "execute_result"
    }
   ],
   "source": [
    "np.max(r.reshape(simulations,T,2).sum(axis=1),axis=1)"
   ]
  },
  {
   "cell_type": "markdown",
   "metadata": {},
   "source": [
    "## Regret bounds"
   ]
  },
  {
   "cell_type": "code",
   "execution_count": 33,
   "metadata": {},
   "outputs": [
    {
     "name": "stderr",
     "output_type": "stream",
     "text": [
      "/home/finn/miniconda3/envs/latestp2/lib/python2.7/site-packages/ipykernel/__main__.py:4: RuntimeWarning: divide by zero encountered in divide\n",
      "/home/finn/miniconda3/envs/latestp2/lib/python2.7/site-packages/ipykernel/__main__.py:15: RuntimeWarning: divide by zero encountered in divide\n"
     ]
    },
    {
     "data": {
      "text/plain": [
       "[<matplotlib.lines.Line2D at 0x7f3f41b564d0>]"
      ]
     },
     "execution_count": 33,
     "metadata": {},
     "output_type": "execute_result"
    },
    {
     "data": {
      "image/png": "[encoded data removed]",
      "text/plain": [
       "<matplotlib.figure.Figure at 0x7f3f41c19f10>"
      ]
     },
     "metadata": {},
     "output_type": "display_data"
    },
    {
     "data": {
      "image/png": "[encoded data removed]",
      "text/plain": [
       "<matplotlib.figure.Figure at 0x7f3f41b56c50>"
      ]
     },
     "metadata": {},
     "output_type": "display_data"
    }
   ],
   "source": [
    "# 2 armed bandit, UCB-1\n",
    "delta = np.linspace(0,.5,500)\n",
    "T = 2000\n",
    "a = 8*np.log(T)/delta + (1+np.pi/3)*delta\n",
    "b = T*delta\n",
    "r = np.minimum(a,b)\n",
    "\n",
    "fig, ax = plt.subplots()\n",
    "ax.plot(delta,r)\n",
    "\n",
    "#plot the position of this spike as a function of delta\n",
    "T_range = range(100,10000,100)\n",
    "points = np.zeros(len(T_range))\n",
    "for i,T in enumerate(T_range):\n",
    "    a = 8*np.log(T)/delta + (1+np.pi/3)*delta\n",
    "    b = T*delta\n",
    "    cv = np.flatnonzero(a < b)\n",
    "    if len(cv) == 0:\n",
    "        points[i] = None\n",
    "    else:\n",
    "        points[i] = delta[cv[0]]\n",
    "\n",
    "fig,ax = plt.subplots()\n",
    "ax.plot(T_range,points)\n"
   ]
  },
  {
   "cell_type": "code",
   "execution_count": 87,
   "metadata": {},
   "outputs": [
    {
     "data": {
      "text/plain": [
       "2.0471975511965974"
      ]
     },
     "execution_count": 87,
     "metadata": {},
     "output_type": "execute_result"
    }
   ],
   "source": [
    "1+np.pi/3.0"
   ]
  },
  {
   "cell_type": "code",
   "execution_count": 88,
   "metadata": {
    "collapsed": true
   },
   "outputs": [],
   "source": [
    "def regret_bound(delta,T_range):\n",
    "    # for a single delta\n",
    "    return np.minimum(8*np.log(T_range)/delta + 2,T_range*delta)"
   ]
  },
  {
   "cell_type": "code",
   "execution_count": 47,
   "metadata": {},
   "outputs": [],
   "source": [
    "# for a fixed delta, plot the regret as function of time, along with the upper bound\n",
    "delta = 0.4\n",
    "T = 2000\n",
    "\n",
    "T_range = np.arange(2,T)\n",
    "r = regret_bound(delta,T_range)\n",
    "\n",
    "simulations = 1000\n",
    "\n",
    "expected_rewards = [.5-delta/2.0,.5+delta/2.0]\n",
    "enviroment = BasicBernoulliModel(expected_rewards)\n",
    "algorithm = AlphaUCB(4.0)\n",
    "\n",
    "result = np.zeros((simulations,T))\n",
    "for s in xrange(simulations):\n",
    "    algorithm.run(T,enviroment)\n",
    "    result[s,:] = algorithm.get_cumulative_regret()\n",
    "\n"
   ]
  },
  {
   "cell_type": "code",
   "execution_count": 97,
   "metadata": {},
   "outputs": [
    {
     "ename": "ValueError",
     "evalue": "x and y must have same first dimension",
     "output_type": "error",
     "traceback": [
      "\u001b[1;31m---------------------------------------------------------------------------\u001b[0m",
      "\u001b[1;31mValueError\u001b[0m                                Traceback (most recent call last)",
      "\u001b[1;32m<ipython-input-97-f74ba6d0a218>\u001b[0m in \u001b[0;36m<module>\u001b[1;34m()\u001b[0m\n\u001b[0;32m      3\u001b[0m \u001b[0msns\u001b[0m\u001b[1;33m.\u001b[0m\u001b[0mset_style\u001b[0m\u001b[1;33m(\u001b[0m\u001b[1;34m\"whitegrid\"\u001b[0m\u001b[1;33m)\u001b[0m\u001b[1;33m\u001b[0m\u001b[0m\n\u001b[0;32m      4\u001b[0m \u001b[0mfig\u001b[0m\u001b[1;33m,\u001b[0m\u001b[0max\u001b[0m \u001b[1;33m=\u001b[0m \u001b[0mplt\u001b[0m\u001b[1;33m.\u001b[0m\u001b[0msubplots\u001b[0m\u001b[1;33m(\u001b[0m\u001b[1;36m1\u001b[0m\u001b[1;33m,\u001b[0m\u001b[0mfigsize\u001b[0m\u001b[1;33m=\u001b[0m\u001b[1;33m(\u001b[0m\u001b[1;36m6\u001b[0m\u001b[1;33m,\u001b[0m\u001b[1;36m4\u001b[0m\u001b[1;33m)\u001b[0m\u001b[1;33m)\u001b[0m\u001b[1;33m\u001b[0m\u001b[0m\n\u001b[1;32m----> 5\u001b[1;33m \u001b[0max\u001b[0m\u001b[1;33m.\u001b[0m\u001b[0mplot\u001b[0m\u001b[1;33m(\u001b[0m\u001b[0mT_range\u001b[0m\u001b[1;33m,\u001b[0m\u001b[0mr\u001b[0m\u001b[1;33m,\u001b[0m\u001b[0mcolor\u001b[0m\u001b[1;33m=\u001b[0m\u001b[0msns\u001b[0m\u001b[1;33m.\u001b[0m\u001b[0mcolor_palette\u001b[0m\u001b[1;33m(\u001b[0m\u001b[1;33m)\u001b[0m\u001b[1;33m[\u001b[0m\u001b[1;36m0\u001b[0m\u001b[1;33m]\u001b[0m\u001b[1;33m,\u001b[0m\u001b[0mls\u001b[0m\u001b[1;33m=\u001b[0m\u001b[1;34m\"dashed\"\u001b[0m\u001b[1;33m,\u001b[0m\u001b[0mlabel\u001b[0m\u001b[1;33m=\u001b[0m\u001b[1;34m\"upper bound\"\u001b[0m\u001b[1;33m)\u001b[0m\u001b[1;33m\u001b[0m\u001b[0m\n\u001b[0m\u001b[0;32m      6\u001b[0m \u001b[0max\u001b[0m\u001b[1;33m.\u001b[0m\u001b[0mplot\u001b[0m\u001b[1;33m(\u001b[0m\u001b[0mT_range\u001b[0m\u001b[1;33m,\u001b[0m\u001b[0mresult\u001b[0m\u001b[1;33m.\u001b[0m\u001b[0mmean\u001b[0m\u001b[1;33m(\u001b[0m\u001b[0maxis\u001b[0m\u001b[1;33m=\u001b[0m\u001b[1;36m0\u001b[0m\u001b[1;33m)\u001b[0m\u001b[1;33m[\u001b[0m\u001b[1;36m2\u001b[0m\u001b[1;33m:\u001b[0m\u001b[1;33m]\u001b[0m\u001b[1;33m,\u001b[0m\u001b[0mcolor\u001b[0m\u001b[1;33m=\u001b[0m\u001b[0msns\u001b[0m\u001b[1;33m.\u001b[0m\u001b[0mcolor_palette\u001b[0m\u001b[1;33m(\u001b[0m\u001b[1;33m)\u001b[0m\u001b[1;33m[\u001b[0m\u001b[1;36m0\u001b[0m\u001b[1;33m]\u001b[0m\u001b[1;33m,\u001b[0m\u001b[0mlabel\u001b[0m\u001b[1;33m=\u001b[0m\u001b[1;34m\"simulated\"\u001b[0m\u001b[1;33m)\u001b[0m\u001b[1;33m\u001b[0m\u001b[0m\n\u001b[0;32m      7\u001b[0m \u001b[0max\u001b[0m\u001b[1;33m.\u001b[0m\u001b[0mset_ylabel\u001b[0m\u001b[1;33m(\u001b[0m\u001b[1;34m\"Pseudo-regret ${R}_T$\"\u001b[0m\u001b[1;33m)\u001b[0m\u001b[1;33m\u001b[0m\u001b[0m\n",
      "\u001b[1;32m/home/finn/miniconda3/envs/latestp2/lib/python2.7/site-packages/matplotlib/__init__.pyc\u001b[0m in \u001b[0;36minner\u001b[1;34m(ax, *args, **kwargs)\u001b[0m\n\u001b[0;32m   1810\u001b[0m                     warnings.warn(msg % (label_namer, func.__name__),\n\u001b[0;32m   1811\u001b[0m                                   RuntimeWarning, stacklevel=2)\n\u001b[1;32m-> 1812\u001b[1;33m             \u001b[1;32mreturn\u001b[0m \u001b[0mfunc\u001b[0m\u001b[1;33m(\u001b[0m\u001b[0max\u001b[0m\u001b[1;33m,\u001b[0m \u001b[1;33m*\u001b[0m\u001b[0margs\u001b[0m\u001b[1;33m,\u001b[0m \u001b[1;33m**\u001b[0m\u001b[0mkwargs\u001b[0m\u001b[1;33m)\u001b[0m\u001b[1;33m\u001b[0m\u001b[0m\n\u001b[0m\u001b[0;32m   1813\u001b[0m         \u001b[0mpre_doc\u001b[0m \u001b[1;33m=\u001b[0m \u001b[0minner\u001b[0m\u001b[1;33m.\u001b[0m\u001b[0m__doc__\u001b[0m\u001b[1;33m\u001b[0m\u001b[0m\n\u001b[0;32m   1814\u001b[0m         \u001b[1;32mif\u001b[0m \u001b[0mpre_doc\u001b[0m \u001b[1;32mis\u001b[0m \u001b[0mNone\u001b[0m\u001b[1;33m:\u001b[0m\u001b[1;33m\u001b[0m\u001b[0m\n",
      "\u001b[1;32m/home/finn/miniconda3/envs/latestp2/lib/python2.7/site-packages/matplotlib/axes/_axes.pyc\u001b[0m in \u001b[0;36mplot\u001b[1;34m(self, *args, **kwargs)\u001b[0m\n\u001b[0;32m   1422\u001b[0m             \u001b[0mkwargs\u001b[0m\u001b[1;33m[\u001b[0m\u001b[1;34m'color'\u001b[0m\u001b[1;33m]\u001b[0m \u001b[1;33m=\u001b[0m \u001b[0mc\u001b[0m\u001b[1;33m\u001b[0m\u001b[0m\n\u001b[0;32m   1423\u001b[0m \u001b[1;33m\u001b[0m\u001b[0m\n\u001b[1;32m-> 1424\u001b[1;33m         \u001b[1;32mfor\u001b[0m \u001b[0mline\u001b[0m \u001b[1;32min\u001b[0m \u001b[0mself\u001b[0m\u001b[1;33m.\u001b[0m\u001b[0m_get_lines\u001b[0m\u001b[1;33m(\u001b[0m\u001b[1;33m*\u001b[0m\u001b[0margs\u001b[0m\u001b[1;33m,\u001b[0m \u001b[1;33m**\u001b[0m\u001b[0mkwargs\u001b[0m\u001b[1;33m)\u001b[0m\u001b[1;33m:\u001b[0m\u001b[1;33m\u001b[0m\u001b[0m\n\u001b[0m\u001b[0;32m   1425\u001b[0m             \u001b[0mself\u001b[0m\u001b[1;33m.\u001b[0m\u001b[0madd_line\u001b[0m\u001b[1;33m(\u001b[0m\u001b[0mline\u001b[0m\u001b[1;33m)\u001b[0m\u001b[1;33m\u001b[0m\u001b[0m\n\u001b[0;32m   1426\u001b[0m             \u001b[0mlines\u001b[0m\u001b[1;33m.\u001b[0m\u001b[0mappend\u001b[0m\u001b[1;33m(\u001b[0m\u001b[0mline\u001b[0m\u001b[1;33m)\u001b[0m\u001b[1;33m\u001b[0m\u001b[0m\n",
      "\u001b[1;32m/home/finn/miniconda3/envs/latestp2/lib/python2.7/site-packages/matplotlib/axes/_base.pyc\u001b[0m in \u001b[0;36m_grab_next_args\u001b[1;34m(self, *args, **kwargs)\u001b[0m\n\u001b[0;32m    384\u001b[0m                 \u001b[1;32mreturn\u001b[0m\u001b[1;33m\u001b[0m\u001b[0m\n\u001b[0;32m    385\u001b[0m             \u001b[1;32mif\u001b[0m \u001b[0mlen\u001b[0m\u001b[1;33m(\u001b[0m\u001b[0mremaining\u001b[0m\u001b[1;33m)\u001b[0m \u001b[1;33m<=\u001b[0m \u001b[1;36m3\u001b[0m\u001b[1;33m:\u001b[0m\u001b[1;33m\u001b[0m\u001b[0m\n\u001b[1;32m--> 386\u001b[1;33m                 \u001b[1;32mfor\u001b[0m \u001b[0mseg\u001b[0m \u001b[1;32min\u001b[0m \u001b[0mself\u001b[0m\u001b[1;33m.\u001b[0m\u001b[0m_plot_args\u001b[0m\u001b[1;33m(\u001b[0m\u001b[0mremaining\u001b[0m\u001b[1;33m,\u001b[0m \u001b[0mkwargs\u001b[0m\u001b[1;33m)\u001b[0m\u001b[1;33m:\u001b[0m\u001b[1;33m\u001b[0m\u001b[0m\n\u001b[0m\u001b[0;32m    387\u001b[0m                     \u001b[1;32myield\u001b[0m \u001b[0mseg\u001b[0m\u001b[1;33m\u001b[0m\u001b[0m\n\u001b[0;32m    388\u001b[0m                 \u001b[1;32mreturn\u001b[0m\u001b[1;33m\u001b[0m\u001b[0m\n",
      "\u001b[1;32m/home/finn/miniconda3/envs/latestp2/lib/python2.7/site-packages/matplotlib/axes/_base.pyc\u001b[0m in \u001b[0;36m_plot_args\u001b[1;34m(self, tup, kwargs)\u001b[0m\n\u001b[0;32m    362\u001b[0m             \u001b[0mx\u001b[0m\u001b[1;33m,\u001b[0m \u001b[0my\u001b[0m \u001b[1;33m=\u001b[0m \u001b[0mindex_of\u001b[0m\u001b[1;33m(\u001b[0m\u001b[0mtup\u001b[0m\u001b[1;33m[\u001b[0m\u001b[1;33m-\u001b[0m\u001b[1;36m1\u001b[0m\u001b[1;33m]\u001b[0m\u001b[1;33m)\u001b[0m\u001b[1;33m\u001b[0m\u001b[0m\n\u001b[0;32m    363\u001b[0m \u001b[1;33m\u001b[0m\u001b[0m\n\u001b[1;32m--> 364\u001b[1;33m         \u001b[0mx\u001b[0m\u001b[1;33m,\u001b[0m \u001b[0my\u001b[0m \u001b[1;33m=\u001b[0m \u001b[0mself\u001b[0m\u001b[1;33m.\u001b[0m\u001b[0m_xy_from_xy\u001b[0m\u001b[1;33m(\u001b[0m\u001b[0mx\u001b[0m\u001b[1;33m,\u001b[0m \u001b[0my\u001b[0m\u001b[1;33m)\u001b[0m\u001b[1;33m\u001b[0m\u001b[0m\n\u001b[0m\u001b[0;32m    365\u001b[0m \u001b[1;33m\u001b[0m\u001b[0m\n\u001b[0;32m    366\u001b[0m         \u001b[1;32mif\u001b[0m \u001b[0mself\u001b[0m\u001b[1;33m.\u001b[0m\u001b[0mcommand\u001b[0m \u001b[1;33m==\u001b[0m \u001b[1;34m'plot'\u001b[0m\u001b[1;33m:\u001b[0m\u001b[1;33m\u001b[0m\u001b[0m\n",
      "\u001b[1;32m/home/finn/miniconda3/envs/latestp2/lib/python2.7/site-packages/matplotlib/axes/_base.pyc\u001b[0m in \u001b[0;36m_xy_from_xy\u001b[1;34m(self, x, y)\u001b[0m\n\u001b[0;32m    221\u001b[0m         \u001b[0my\u001b[0m \u001b[1;33m=\u001b[0m \u001b[0m_check_1d\u001b[0m\u001b[1;33m(\u001b[0m\u001b[0my\u001b[0m\u001b[1;33m)\u001b[0m\u001b[1;33m\u001b[0m\u001b[0m\n\u001b[0;32m    222\u001b[0m         \u001b[1;32mif\u001b[0m \u001b[0mx\u001b[0m\u001b[1;33m.\u001b[0m\u001b[0mshape\u001b[0m\u001b[1;33m[\u001b[0m\u001b[1;36m0\u001b[0m\u001b[1;33m]\u001b[0m \u001b[1;33m!=\u001b[0m \u001b[0my\u001b[0m\u001b[1;33m.\u001b[0m\u001b[0mshape\u001b[0m\u001b[1;33m[\u001b[0m\u001b[1;36m0\u001b[0m\u001b[1;33m]\u001b[0m\u001b[1;33m:\u001b[0m\u001b[1;33m\u001b[0m\u001b[0m\n\u001b[1;32m--> 223\u001b[1;33m             \u001b[1;32mraise\u001b[0m \u001b[0mValueError\u001b[0m\u001b[1;33m(\u001b[0m\u001b[1;34m\"x and y must have same first dimension\"\u001b[0m\u001b[1;33m)\u001b[0m\u001b[1;33m\u001b[0m\u001b[0m\n\u001b[0m\u001b[0;32m    224\u001b[0m         \u001b[1;32mif\u001b[0m \u001b[0mx\u001b[0m\u001b[1;33m.\u001b[0m\u001b[0mndim\u001b[0m \u001b[1;33m>\u001b[0m \u001b[1;36m2\u001b[0m \u001b[1;32mor\u001b[0m \u001b[0my\u001b[0m\u001b[1;33m.\u001b[0m\u001b[0mndim\u001b[0m \u001b[1;33m>\u001b[0m \u001b[1;36m2\u001b[0m\u001b[1;33m:\u001b[0m\u001b[1;33m\u001b[0m\u001b[0m\n\u001b[0;32m    225\u001b[0m             \u001b[1;32mraise\u001b[0m \u001b[0mValueError\u001b[0m\u001b[1;33m(\u001b[0m\u001b[1;34m\"x and y can be no greater than 2-D\"\u001b[0m\u001b[1;33m)\u001b[0m\u001b[1;33m\u001b[0m\u001b[0m\n",
      "\u001b[1;31mValueError\u001b[0m: x and y must have same first dimension"
     ]
    },
    {
     "data": {
      "image/png": "[encoded data removed]",
      "text/plain": [
       "<matplotlib.figure.Figure at 0x7f3f2d7fba90>"
      ]
     },
     "metadata": {},
     "output_type": "display_data"
    }
   ],
   "source": [
    "# plots the upper bound on the expected regret and the average expected regret from 1000 simulations. \n",
    "\n",
    "sns.set_style(\"whitegrid\")\n",
    "fig,ax = plt.subplots(1,figsize=(6,4))\n",
    "ax.plot(T_range,r,color=sns.color_palette()[0],ls=\"dashed\",label=\"upper bound\")   \n",
    "ax.plot(T_range,result.mean(axis=0)[2:],color=sns.color_palette()[0],label=\"simulated\")\n",
    "ax.set_ylabel(\"Pseudo-regret ${R}_T$\")\n",
    "ax.set_xlabel(\"Horizon $T$\")\n",
    "ax.legend(loc = \"upper left\")\n",
    "plt.tight_layout()\n",
    "fig.savefig('upper_bound_vs_actual_average_regret.pdf', format='pdf', dpi=1200)"
   ]
  },
  {
   "cell_type": "code",
   "execution_count": 78,
   "metadata": {
    "collapsed": true
   },
   "outputs": [],
   "source": [
    "# for a fixed T, plot the regret as function of delta, along with the upper bound\n",
    "delta_range = np.linspace(0.001,.999,100)\n",
    "T = 500\n",
    "\n",
    "\n",
    "\n",
    "simulations = 1000\n",
    "\n",
    "algorithm = AlphaUCB(4.0)\n",
    "\n",
    "result = np.zeros((simulations,len(delta_range)))\n",
    "for i, delta in enumerate(delta_range):\n",
    "    enviroment = BasicBernoulliModel([.5-delta/2.0,.5+delta/2.0])\n",
    "    for s in xrange(simulations):\n",
    "        algorithm.run(T,enviroment)\n",
    "        result[s,i] = algorithm.get_cumulative_regret()[-1]"
   ]
  },
  {
   "cell_type": "code",
   "execution_count": 117,
   "metadata": {
    "collapsed": true
   },
   "outputs": [],
   "source": [
    "def r1(delta,T):\n",
    "    return np.true_divide(8*np.log(T),delta)+2\n",
    "def r2(delta,T):\n",
    "    return delta*T\n"
   ]
  },
  {
   "cell_type": "code",
   "execution_count": 124,
   "metadata": {},
   "outputs": [],
   "source": [
    "a = r1(delta_range,T)\n",
    "b = r2(delta_range,T)\n",
    "boundary = np.flatnonzero(a < b)[0]\n",
    "delta_1 = delta_range[0:boundary]\n",
    "delta_2 = delta_range[boundary:]\n",
    "a = a[boundary:]\n",
    "b = b[0:boundary]\n"
   ]
  },
  {
   "cell_type": "code",
   "execution_count": 138,
   "metadata": {
    "scrolled": true
   },
   "outputs": [
    {
     "data": {
      "image/png": "[encoded data removed]",
      "text/plain": [
       "<matplotlib.figure.Figure at 0x7f3f2d8e13d0>"
      ]
     },
     "metadata": {},
     "output_type": "display_data"
    }
   ],
   "source": [
    "blue = sns.color_palette()[0]\n",
    "r = regret_bound(delta_range,T)\n",
    "fig,ax = plt.subplots(1,figsize=(6,4))\n",
    "ax.plot(delta_1,b,linestyle=\":\",lw = 3,color=blue,label=\"$T\\Delta$\")\n",
    "ax.plot(delta_2,a,linestyle=\"--\",color=blue,label=\"$\\\\left(\\\\frac{8\\\\log(T)}{\\Delta}+2 \\\\right)$\")\n",
    "ax.plot(delta_range,result.mean(axis=0),color=blue,label=\"simulated\")\n",
    "ax.legend(loc=\"upper right\")\n",
    "ax.set_xlabel(\"Sub-optimality gap $\\Delta$\")\n",
    "ax.set_ylabel(\"Pseudo-regret $R_T$\")\n",
    "\n",
    "plt.tight_layout()\n",
    "fig.savefig('ucb_regret_vs_delta.pdf', format='pdf', dpi=1200)\n"
   ]
  },
  {
   "cell_type": "markdown",
   "metadata": {
    "collapsed": true
   },
   "source": [
    "## Regret can be negative in adversarial settings"
   ]
  },
  {
   "cell_type": "code",
   "execution_count": 1,
   "metadata": {},
   "outputs": [],
   "source": [
    "from causalpy.bandits import ThompsonSampling,TimeVaryingBernoulliModel,AlphaUCB\n",
    "import numpy as np\n",
    "import matplotlib.pyplot as plt\n",
    "from causalpy.bandits import BasicBernoulliModel\n",
    "import seaborn as sns\n",
    "%matplotlib inline\n",
    "\n",
    "T = 10000\n",
    "model = TimeVaryingBernoulliModel(np.asarray([.9,.1]),np.asarray([.1,.8]),T)\n",
    "\n",
    "\n",
    "expected_rewards = np.zeros((T,2))\n",
    "for t in xrange(T):\n",
    "    expected_rewards[t,:] = model.expected_rewards_t(t)\n",
    "\n"
   ]
  },
  {
   "cell_type": "code",
   "execution_count": 2,
   "metadata": {
    "collapsed": true
   },
   "outputs": [],
   "source": [
    "simulations = 1000\n",
    "alg1 = ThompsonSampling()\n",
    "alg2 = AlphaUCB(4)\n",
    "\n",
    "arms = np.zeros((simulations,T))\n",
    "rewards = np.zeros((simulations,T))\n",
    "\n",
    "arms2 = np.zeros((simulations,T))\n",
    "rewards2 = np.zeros((simulations,T))\n",
    "for s in xrange(simulations):\n",
    "    model = TimeVaryingBernoulliModel(np.asarray([.9,.1]),np.asarray([.1,.8]),T)\n",
    "    alg1.run(T,model)\n",
    "    arms[s,:] = alg1.arms\n",
    "    rewards[s,:] = alg1.rewards\n",
    "    \n",
    "    model = TimeVaryingBernoulliModel(np.asarray([.9,.1]),np.asarray([.1,.8]),T)\n",
    "    alg2.run(T,model)\n",
    "    \n",
    "    arms2[s,:] = alg2.arms\n",
    "    rewards2[s,:] = alg2.rewards\n",
    "    "
   ]
  },
  {
   "cell_type": "code",
   "execution_count": null,
   "metadata": {
    "collapsed": true
   },
   "outputs": [],
   "source": []
  },
  {
   "cell_type": "code",
   "execution_count": 39,
   "metadata": {},
   "outputs": [
    {
     "data": {
      "image/png": "[encoded data removed]",
      "text/plain": [
       "<matplotlib.figure.Figure at 0x7f844dcc6990>"
      ]
     },
     "metadata": {},
     "output_type": "display_data"
    }
   ],
   "source": [
    "red =sns.color_palette()[2]\n",
    "sns.set_style(\"whitegrid\")\n",
    "fig,ax = plt.subplots(2,1,figsize=(6,6),sharex=True,sharey=True)\n",
    "ax[0].plot(range(T),expected_rewards[:,0],label = \"arm 1\")\n",
    "ax[0].set_ylabel(\"expected reward\")\n",
    "ax[0].plot(range(T),expected_rewards[:,1],label = \"arm 2\")\n",
    "ax[0].legend(loc=\"upper right\")\n",
    "ax[1].set_ylabel(\"proportion arm 1 selected\")\n",
    "ax[1].set_xlabel(\"$t$\")\n",
    "ax[1].plot(1-arms2.mean(axis=0),color=red)\n",
    "plt.tight_layout()\n",
    "fig.savefig('non-stationary-bandit-time.pdf', format='pdf', dpi=1200)"
   ]
  },
  {
   "cell_type": "code",
   "execution_count": 40,
   "metadata": {},
   "outputs": [
    {
     "data": {
      "image/png": "[encoded data removed]",
      "text/plain": [
       "<matplotlib.figure.Figure at 0x7f844de4c890>"
      ]
     },
     "metadata": {},
     "output_type": "display_data"
    }
   ],
   "source": [
    "\n",
    "fig,ax = plt.subplots(1,figsize=(6,4))\n",
    "ax.hist(.5*T-rewards2.sum(axis=1),bins=15,color=sns.color_palette()[0])\n",
    "ax.set_xlabel(\"Pseudo-Regret $R_T$\")\n",
    "ax.set_ylabel(\"Frequency\")\n",
    "plt.tight_layout()\n",
    "fig.savefig('non-stationary-bandit-regret.pdf', format='pdf', dpi=1200)"
   ]
  },
  {
   "cell_type": "code",
   "execution_count": 7,
   "metadata": {},
   "outputs": [
    {
     "data": {
      "text/plain": [
       "[<matplotlib.lines.Line2D at 0x7f844fdf15d0>]"
      ]
     },
     "execution_count": 7,
     "metadata": {},
     "output_type": "execute_result"
    },
    {
     "data": {
      "image/png": "[encoded data removed]",
      "text/plain": [
       "<matplotlib.figure.Figure at 0x7f844fdf1110>"
      ]
     },
     "metadata": {},
     "output_type": "display_data"
    }
   ],
   "source": [
    "plt.plot(rewards2.mean(axis=0))\n",
    "plt.plot(rewards.mean(axis=0))"
   ]
  },
  {
   "cell_type": "code",
   "execution_count": 110,
   "metadata": {},
   "outputs": [
    {
     "name": "stdout",
     "output_type": "stream",
     "text": [
      "(10000, 2)\n",
      "(1000, 10000)\n"
     ]
    },
    {
     "data": {
      "text/plain": [
       "(array([  23.,    8.,    8.,   10.,    7.,   10.,   20.,   18.,   25.,   30.,   42.,   47.,   56.,   83.,   97.,  135.,  153.,  127.,   78.,   23.]),\n",
       " array([ 4996.32455,  5065.81236,  5135.30017,  5204.78798,  5274.27579,  5343.7636 ,  5413.25141,  5482.73922,  5552.22703,  5621.71484,  5691.20265,  5760.69046,  5830.17827,  5899.66608,\n",
       "         5969.15389,  6038.6417 ,  6108.12951,  6177.61732,  6247.10513,  6316.59294,  6386.08075]),\n",
       " <a list of 20 Patch objects>)"
      ]
     },
     "execution_count": 110,
     "metadata": {},
     "output_type": "execute_result"
    },
    {
     "data": {
      "image/png": "[encoded data removed]",
      "text/plain": [
       "<matplotlib.figure.Figure at 0x7f7d5f68ffd0>"
      ]
     },
     "metadata": {},
     "output_type": "display_data"
    }
   ],
   "source": [
    "print rewards.shape\n",
    "print arms.shape\n",
    "v = rewards[np.arange(T),arms]\n",
    "plt.hist(v.sum(axis=1),bins = 20)"
   ]
  },
  {
   "cell_type": "code",
   "execution_count": 61,
   "metadata": {},
   "outputs": [
    {
     "data": {
      "text/plain": [
       "array([ 0.9    ,  0.9    ,  0.89992, ...,  0.89992,  0.89992,  0.89992])"
      ]
     },
     "execution_count": 61,
     "metadata": {},
     "output_type": "execute_result"
    }
   ],
   "source": [
    "np.take(rewards[:,0],a)\n"
   ]
  },
  {
   "cell_type": "code",
   "execution_count": 63,
   "metadata": {},
   "outputs": [
    {
     "data": {
      "text/plain": [
       "array([ 0.9    ,  0.89992,  0.89984, ...,  0.10024,  0.10016,  0.10008])"
      ]
     },
     "execution_count": 63,
     "metadata": {},
     "output_type": "execute_result"
    }
   ],
   "source": [
    "rewards[:,0]"
   ]
  },
  {
   "cell_type": "code",
   "execution_count": 72,
   "metadata": {},
   "outputs": [
    {
     "name": "stdout",
     "output_type": "stream",
     "text": [
      "[[ 0.  1.]\n",
      " [ 2.  3.]\n",
      " [ 4.  5.]]\n",
      "[ 0.  2.  4.]\n"
     ]
    }
   ],
   "source": [
    "vals = np.arange(6).reshape((3,2)).astype(float)\n",
    "print vals\n",
    "print vals[:,0]"
   ]
  },
  {
   "cell_type": "code",
   "execution_count": 80,
   "metadata": {},
   "outputs": [
    {
     "name": "stdout",
     "output_type": "stream",
     "text": [
      "[[0 0]\n",
      " [1 0]\n",
      " [2 1]]\n"
     ]
    },
    {
     "data": {
      "text/plain": [
       "array([[ 0.,  0.],\n",
       "       [ 1.,  0.],\n",
       "       [ 2.,  1.]])"
      ]
     },
     "execution_count": 80,
     "metadata": {},
     "output_type": "execute_result"
    }
   ],
   "source": [
    "indx = np.asarray([np.arange(3),np.asarray([0,0,1])]).T\n",
    "print indx\n",
    "np.take(vals,indx)"
   ]
  },
  {
   "cell_type": "code",
   "execution_count": 98,
   "metadata": {},
   "outputs": [
    {
     "name": "stdout",
     "output_type": "stream",
     "text": [
      "[[0 1]\n",
      " [2 3]\n",
      " [4 5]]\n",
      "goal [1, 2, 4]\n"
     ]
    },
    {
     "data": {
      "text/plain": [
       "array([1, 2, 4])"
      ]
     },
     "execution_count": 98,
     "metadata": {},
     "output_type": "execute_result"
    }
   ],
   "source": [
    "a = np.arange(6).reshape((3,2))\n",
    "indx = np.asarray([1,0,0])\n",
    "\n",
    "print a\n",
    "print \"goal\", [a[0,1],a[1,0],a[2,0]] # goal\n",
    "\n",
    "a[np.arange(3),indx]"
   ]
  },
  {
   "cell_type": "code",
   "execution_count": 96,
   "metadata": {},
   "outputs": [
    {
     "name": "stdout",
     "output_type": "stream",
     "text": [
      "[[ 3 14]\n",
      " [12  5]\n",
      " [75 50]]\n",
      "[ 3  5 50]\n"
     ]
    }
   ],
   "source": [
    "input_array = np.array( [ [3,14], [12, 5], [75, 50] ] )\n",
    "select_id = [0, 1, 1]\n",
    "print input_array\n",
    "\n",
    "\n",
    "output_array = input_array[  range( input_array.shape[0] ), select_id ]\n",
    "print output_array\n"
   ]
  },
  {
   "cell_type": "code",
   "execution_count": 87,
   "metadata": {},
   "outputs": [
    {
     "ename": "IndexError",
     "evalue": "too many indices for array",
     "output_type": "error",
     "traceback": [
      "\u001b[1;31m---------------------------------------------------------------------------\u001b[0m",
      "\u001b[1;31mIndexError\u001b[0m                                Traceback (most recent call last)",
      "\u001b[1;32m<ipython-input-87-c3f95bda7b15>\u001b[0m in \u001b[0;36m<module>\u001b[1;34m()\u001b[0m\n\u001b[1;32m----> 1\u001b[1;33m \u001b[0ma\u001b[0m\u001b[1;33m[\u001b[0m\u001b[1;33m[\u001b[0m\u001b[1;33m[\u001b[0m\u001b[1;36m0\u001b[0m\u001b[1;33m,\u001b[0m \u001b[1;36m0\u001b[0m\u001b[1;33m]\u001b[0m\u001b[1;33m,\u001b[0m \u001b[1;33m[\u001b[0m\u001b[1;36m1\u001b[0m\u001b[1;33m,\u001b[0m \u001b[1;36m1\u001b[0m\u001b[1;33m]\u001b[0m\u001b[1;33m,\u001b[0m \u001b[1;33m[\u001b[0m\u001b[1;36m3\u001b[0m\u001b[1;33m,\u001b[0m \u001b[1;36m3\u001b[0m\u001b[1;33m]\u001b[0m\u001b[1;33m]\u001b[0m\u001b[1;33m]\u001b[0m\u001b[1;33m\u001b[0m\u001b[0m\n\u001b[0m",
      "\u001b[1;31mIndexError\u001b[0m: too many indices for array"
     ]
    }
   ],
   "source": [
    "print a\n",
    "row_idx = np.array([0, 1, 3])\n",
    "col_idx = np.array([0, 2])\n",
    "a[row_idx.T, col_idx]"
   ]
  },
  {
   "cell_type": "code",
   "execution_count": 86,
   "metadata": {},
   "outputs": [
    {
     "data": {
      "text/plain": [
       "array([0, 1, 3])"
      ]
     },
     "execution_count": 86,
     "metadata": {},
     "output_type": "execute_result"
    }
   ],
   "source": [
    "row_idx"
   ]
  },
  {
   "cell_type": "code",
   "execution_count": null,
   "metadata": {
    "collapsed": true
   },
   "outputs": [],
   "source": []
  }
 ],
 "metadata": {
  "kernelspec": {
   "display_name": "Python 2",
   "language": "python",
   "name": "python2"
  },
  "language_info": {
   "codemirror_mode": {
    "name": "ipython",
    "version": 2
   },
   "file_extension": ".py",
   "mimetype": "text/x-python",
   "name": "python",
   "nbconvert_exporter": "python",
   "pygments_lexer": "ipython2",
   "version": "2.7.12"
  }
 },
 "nbformat": 4,
 "nbformat_minor": 1
}
