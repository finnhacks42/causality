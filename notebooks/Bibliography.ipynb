{
 "cells": [
  {
   "cell_type": "code",
   "execution_count": 105,
   "metadata": {
    "collapsed": false
   },
   "outputs": [],
   "source": [
    "# parse .aux file and pull out citations\n",
    "import re\n",
    "def parse_aux(path):\n",
    "    citations = set([])\n",
    "    cite = re.compile(\"\\\\\\citation{(.*)}\")\n",
    "    with open(path,\"r\") as aux:\n",
    "        for line in aux.readlines():\n",
    "            m = cite.match(line)\n",
    "            if m:\n",
    "                for citekey in m.group(1).split(\",\"):\n",
    "                    if len(citekey) > 0:\n",
    "                        citations.add(citekey)\n",
    "    return citations\n",
    "                                 \n",
    "citations = parse_aux(\"/home/finn/phd/causality/thesis/thesis_map.aux\")\n",
    "            "
   ]
  },
  {
   "cell_type": "code",
   "execution_count": 106,
   "metadata": {
    "collapsed": false
   },
   "outputs": [
    {
     "data": {
      "text/plain": [
       "177"
      ]
     },
     "execution_count": 106,
     "metadata": {},
     "output_type": "execute_result"
    }
   ],
   "source": [
    "\n",
    "len(citations)\n"
   ]
  },
  {
   "cell_type": "code",
   "execution_count": null,
   "metadata": {
    "collapsed": true
   },
   "outputs": [],
   "source": []
  },
  {
   "cell_type": "code",
   "execution_count": 127,
   "metadata": {
    "collapsed": false
   },
   "outputs": [],
   "source": [
    "import bibtexparser\n",
    "from bibtexparser.bparser import BibTexParser\n",
    "from bibtexparser.customization import homogeneize_latex_encoding\n",
    "from bibtexparser.bwriter import BibTexWriter\n",
    "from bibtexparser.customization import journal\n",
    "\n",
    "drop_fields = [\n",
    " u'address',\n",
    " u'archiveprefix',\n",
    " u'arxivid',\n",
    " u'chapter',\n",
    " u'editor',\n",
    " u'eprint',\n",
    " u'institution',\n",
    " u'number',\n",
    " u'organization',\n",
    " u'pages',\n",
    " u'publisher',\n",
    " u'series',\n",
    " u'volume',\n",
    " 'abstract',\n",
    " 'annote',\n",
    " 'file',\n",
    " 'keyword',\n",
    " 'link', 'mendeley-tags','pmid','isbn','issn','doi']\n",
    "    \n",
    "def customizations(record):\n",
    "    \"\"\"Use some functions delivered by the library\n",
    "    :param record: a record\n",
    "    :returns: -- customized record\n",
    "    \"\"\"\n",
    "    record = journal(record)\n",
    "    return record\n",
    "\n",
    "with open('/home/finn/phd/library.bib') as bibtex_file:\n",
    "    parser = BibTexParser()\n",
    "    #parser.customization = customizations\n",
    "    #parser.customization = homogeneize_latex_encoding\n",
    "    bib_database = bibtexparser.load(bibtex_file,parser=parser)\n",
    "\n",
    "missing = []\n",
    "for key in citations:\n",
    "    if key not in bib_database.entries_dict:\n",
    "        missing.append(key)\n",
    "\n",
    "cited = []\n",
    "problem = []\n",
    "fields = set([])\n",
    "journals = set([])\n",
    "keys = set([])\n",
    "for entry in bib_database.entries:\n",
    "    key = entry.get('ID')\n",
    "    if key in citations and key not in keys:\n",
    "        keys.add(key)\n",
    "        for field in drop_fields:\n",
    "            if field in entry:\n",
    "                entry.pop(field)\n",
    "        fields.update(entry.keys())\n",
    "        \n",
    "        #if contains(entry,\"\\\\\") and not contains(entry,\"\\\\text\"):\n",
    "        #    problem.append(entry)\n",
    "        #else:\n",
    "        cited.append(entry)\n",
    "        \n",
    "\n",
    "bib_database.entries = cited\n",
    "\n",
    "for j in journals:\n",
    "    print j\n",
    "\n",
    "fields\n",
    "writer = BibTexWriter()\n",
    "with open('/home/finn/phd/library2.bib', 'w') as bibfile:\n",
    "    tmp = writer.write(bib_database)\n",
    "    bibfile.write(tmp.encode(\"utf-8\"))"
   ]
  },
  {
   "cell_type": "code",
   "execution_count": 85,
   "metadata": {
    "collapsed": false
   },
   "outputs": [],
   "source": [
    "def contains(entry,value = \"\\\\\"):\n",
    "    for v in entry.values():\n",
    "        if value in v:\n",
    "            \n",
    "            return True\n",
    "    return False"
   ]
  },
  {
   "cell_type": "code",
   "execution_count": 104,
   "metadata": {
    "collapsed": false
   },
   "outputs": [
    {
     "name": "stdout",
     "output_type": "stream",
     "text": [
      "0\n"
     ]
    },
    {
     "data": {
      "text/plain": [
       "[]"
      ]
     },
     "execution_count": 104,
     "metadata": {},
     "output_type": "execute_result"
    }
   ],
   "source": [
    "print len(bib_database.entries)\n",
    "missing"
   ]
  },
  {
   "cell_type": "code",
   "execution_count": null,
   "metadata": {
    "collapsed": true
   },
   "outputs": [],
   "source": []
  }
 ],
 "metadata": {
  "kernelspec": {
   "display_name": "Python 2",
   "language": "python",
   "name": "python2"
  },
  "language_info": {
   "codemirror_mode": {
    "name": "ipython",
    "version": 2
   },
   "file_extension": ".py",
   "mimetype": "text/x-python",
   "name": "python",
   "nbconvert_exporter": "python",
   "pygments_lexer": "ipython2",
   "version": "2.7.12"
  }
 },
 "nbformat": 4,
 "nbformat_minor": 0
}
