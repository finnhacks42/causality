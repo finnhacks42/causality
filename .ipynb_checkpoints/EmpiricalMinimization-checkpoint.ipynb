{
 "metadata": {
  "name": ""
 },
 "nbformat": 3,
 "nbformat_minor": 0,
 "worksheets": [
  {
   "cells": [
    {
     "cell_type": "markdown",
     "metadata": {},
     "source": [
      "Expore the behaviour of the function:\n",
      "\n",
      "\\begin{equation}\n",
      "R_T \\leq  h + (T - h)\\left(\\sqrt{\\frac{4}{h}\\log(\\frac{hk}{2})}+\\frac{2}{h}\\right)\n",
      "\\end{equation}\n",
      "\n",
      "For different values of $T$ and $K$ I want to find the $h$ that minimizes the regret subject to the constraint that $T > h$ and everything is integer > 0"
     ]
    },
    {
     "cell_type": "code",
     "collapsed": false,
     "input": [
      "def R(h,T,K):\n",
      "    return h+(T-h)*(sqrt(4.0/h * log(h*K/2.0)) + 2.0/h)"
     ],
     "language": "python",
     "metadata": {},
     "outputs": [],
     "prompt_number": 42
    },
    {
     "cell_type": "code",
     "collapsed": false,
     "input": [
      "from scipy.optimize import minimize_scalar\n",
      "\n",
      "# minimize function with extra arguaments - ok that seems to work\n",
      "\n",
      "def f(x,c=1):\n",
      "    return (x-c)**2\n",
      "\n",
      "res = minimize_scalar(f, bounds=(-10, 10), method='bounded',args=(0,))\n",
      "print res.x"
     ],
     "language": "python",
     "metadata": {},
     "outputs": [
      {
       "output_type": "stream",
       "stream": "stdout",
       "text": [
        "0.0\n"
       ]
      }
     ],
     "prompt_number": 40
    },
    {
     "cell_type": "code",
     "collapsed": false,
     "input": [
      "# Plot it out numerically - that may show something up...\n",
      "\n",
      "res = minimize_scalar(R, bounds=(1, 99), method='bounded',args =(100,10) )\n",
      "print res.x"
     ],
     "language": "python",
     "metadata": {},
     "outputs": [
      {
       "output_type": "stream",
       "stream": "stdout",
       "text": [
        "50.7914486014\n"
       ]
      }
     ],
     "prompt_number": 43
    },
    {
     "cell_type": "code",
     "collapsed": false,
     "input": [],
     "language": "python",
     "metadata": {},
     "outputs": []
    }
   ],
   "metadata": {}
  }
 ]
}