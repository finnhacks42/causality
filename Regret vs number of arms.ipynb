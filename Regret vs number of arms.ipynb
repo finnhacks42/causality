{
 "cells": [
  {
   "cell_type": "code",
   "execution_count": 2,
   "metadata": {},
   "outputs": [],
   "source": [
    "import pandas as pd\n",
    "import numpy as np\n",
    "import matplotlib.pyplot as plt\n",
    "%matplotlib inline"
   ]
  },
  {
   "cell_type": "code",
   "execution_count": 4,
   "metadata": {
    "collapsed": true
   },
   "outputs": [],
   "source": [
    "from causalpy.bandits import BasicBernoulliModel,ThompsonSampling"
   ]
  },
  {
   "cell_type": "code",
   "execution_count": 58,
   "metadata": {},
   "outputs": [],
   "source": [
    "simulations = 100\n",
    "T = 20000\n",
    "K = [2**n for n in range(1,5)]+[32*n for n in range(1,17)]\n",
    "results = np.zeros((simulations,len(K)))\n",
    "for s in range(simulations):\n",
    "    for indx,k in enumerate(K):\n",
    "        model = BasicBernoulliModel.create_random(k)\n",
    "        alg = ThompsonSampling()\n",
    "        alg.run(T,model)\n",
    "        regret = alg.expected_regret(model).sum()\n",
    "        results[s,indx] = regret"
   ]
  },
  {
   "cell_type": "code",
   "execution_count": 59,
   "metadata": {},
   "outputs": [
    {
     "data": {
      "text/plain": [
       "<Container object of 3 artists>"
      ]
     },
     "execution_count": 59,
     "metadata": {},
     "output_type": "execute_result"
    },
    {
     "data": {
      "image/png": "[encoded data removed]",
      "text/plain": [
       "<matplotlib.figure.Figure at 0x116290c10>"
      ]
     },
     "metadata": {},
     "output_type": "display_data"
    }
   ],
   "source": [
    "err = 3*results.std(axis=0)/np.sqrt(simulations)\n",
    "plt.errorbar(K,results.mean(axis=0),yerr=err,lw=1)"
   ]
  },
  {
   "cell_type": "code",
   "execution_count": null,
   "metadata": {
    "collapsed": true
   },
   "outputs": [],
   "source": [
    "results.mean**2"
   ]
  },
  {
   "cell_type": "code",
   "execution_count": 60,
   "metadata": {},
   "outputs": [
    {
     "data": {
      "text/plain": [
       "array([ 11.958227,   7.747169,   6.399463,   0.905458,  13.147342,   0.573852,   7.948496,  17.137315,   4.321626,   3.170297,   5.472683,   0.070805,   3.417598,  14.299736,   2.719802,  14.919619,\n",
       "        17.472695,  15.570891,   9.310426,  16.864965,  17.935888,  12.354701,  14.576437,   4.540075,   0.54301 ,   6.933327,   2.075115,   3.59842 ,   0.562763,  16.963992,   7.506934,   8.947837,\n",
       "         0.694046,   8.895314,   5.386443,  11.701287,  12.489656,   4.986107,  10.150291,   2.482926,   4.446858,   8.643238,   2.841527,   0.744   ,   7.788642,   6.176114,  13.412386,  10.285978,\n",
       "        11.193181,  15.824459,   9.623144,  11.0507  ,   1.146809,  17.915879,  12.626547,  17.68    ,  14.17463 ,  17.097148,  11.984947,   1.460392,   5.261814,  17.150042,   4.557803,   2.491797,\n",
       "         9.687119,   5.697205,   2.391826,  12.780577,  17.348306,   0.590906,   2.685953,  12.744883,   0.644002,   2.86523 ,  14.676027,  14.504282,  13.433897,  11.863478,   9.435476,  16.454839,\n",
       "        17.950924,   3.413593,   3.087137,   4.822308,  16.263687,  12.61351 ,  13.030956,   9.699003,  13.824395,   8.162583,  15.160004,  13.315315,  12.205044,   0.301349,  11.564654,  15.979067,\n",
       "         6.692878,   0.624154,   7.706885,   7.578238])"
      ]
     },
     "execution_count": 60,
     "metadata": {},
     "output_type": "execute_result"
    }
   ],
   "source": [
    "N = 100\n",
    "# reading ability versus height\n",
    "\n",
    "# first sample age uniformly from 0-18\n",
    "# then sample height given age\n",
    "# then sample reading ability versus age\n",
    "age = np.random.uniform(0,18,size=N)\n",
    "\n"
   ]
  },
  {
   "cell_type": "code",
   "execution_count": null,
   "metadata": {
    "collapsed": true
   },
   "outputs": [],
   "source": []
  }
 ],
 "metadata": {
  "kernelspec": {
   "display_name": "Python 2",
   "language": "python",
   "name": "python2"
  },
  "language_info": {
   "codemirror_mode": {
    "name": "ipython",
    "version": 2
   },
   "file_extension": ".py",
   "mimetype": "text/x-python",
   "name": "python",
   "nbconvert_exporter": "python",
   "pygments_lexer": "ipython2",
   "version": "2.7.13"
  }
 },
 "nbformat": 4,
 "nbformat_minor": 2
}
