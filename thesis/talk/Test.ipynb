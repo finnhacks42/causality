{
 "cells": [
  {
   "cell_type": "code",
   "execution_count": 62,
   "metadata": {
    "collapsed": true
   },
   "outputs": [],
   "source": [
    "import numpy as np\n",
    "import pandas as pd\n",
    "import matplotlib.pyplot as plt\n",
    "from scipy import interpolate\n",
    "import matplotlib\n",
    "%matplotlib inline"
   ]
  },
  {
   "cell_type": "code",
   "execution_count": 28,
   "metadata": {},
   "outputs": [],
   "source": [
    "lower = pd.read_csv(\"5.csv\",header=None,names = [\"age\",\"height\"])\n",
    "upper = pd.read_csv(\"95.csv\",header=None,names = [\"age\",\"height\"])\n",
    "mu = pd.read_csv(\"mean.csv\",header=None,names = [\"age\",\"height\"])\n",
    "read = pd.read_csv(\"read_vs_age.csv\",header=None,names=[\"age\",\"reading score\"])\n",
    "read.sort_values(\"age\",inplace=True)"
   ]
  },
  {
   "cell_type": "code",
   "execution_count": 50,
   "metadata": {},
   "outputs": [],
   "source": [
    "f_lower = interpolate.interp1d(lower[\"age\"],lower[\"height\"])\n",
    "f_mean = interpolate.interp1d(mu[\"age\"],mu[\"height\"])\n",
    "age = np.linspace(2.5,18,100)\n",
    "f_std = interpolate.interp1d(age,(f_mean(age)-f_lower(age))/2.0)\n",
    "f_read = interpolate.interp1d(read[\"age\"],read[\"reading score\"])"
   ]
  },
  {
   "cell_type": "code",
   "execution_count": null,
   "metadata": {},
   "outputs": [],
   "source": [
    "plt.plot(age,f_2std(age),'o')\n",
    "#>>> x = np.arange(0, 10)\n",
    "#>>> y = np.exp(-x/3.0)\n",
    "#>>> f = interpolate.interp1d(x, y)\n",
    "#>>> xnew = np.arange(0, 9, 0.1)\n",
    "#>>> ynew = f(xnew)   # use interpolation function returned by `interp1d`\n",
    "#>>> plt.plot(x, y, 'o', xnew, ynew, '-')\n",
    "#>>> plt.show()"
   ]
  },
  {
   "cell_type": "code",
   "execution_count": 42,
   "metadata": {},
   "outputs": [
    {
     "data": {
      "text/plain": [
       "array([ 1.04038174,  2.07309185,  2.72813344])"
      ]
     },
     "execution_count": 42,
     "metadata": {},
     "output_type": "execute_result"
    }
   ],
   "source": [
    "np.random.normal(loc=np.asarray([1,2,3]),scale=np.asarray([.1,.05,.2]))"
   ]
  },
  {
   "cell_type": "code",
   "execution_count": 91,
   "metadata": {},
   "outputs": [
    {
     "data": {
      "image/png": "[encoded data removed]",
      "text/plain": [
       "<matplotlib.figure.Figure at 0x122664710>"
      ]
     },
     "metadata": {},
     "output_type": "display_data"
    }
   ],
   "source": [
    "matplotlib.rcParams.update({'font.size': 14})\n",
    "N = 100\n",
    "age = np.random.uniform(5,18,size=N)\n",
    "height = np.random.normal(loc = f_mean(age), scale = f_std(age))\n",
    "reading = np.random.normal(loc = f_read(age))\n",
    "fig,ax = plt.subplots()\n",
    "ax.plot(height,reading,markersize=5,marker=\"o\",linestyle=\"\")\n",
    "ax.set_xlabel(\"height (cm)\")\n",
    "ax.set_ylabel(\"reading score\")\n",
    "ax.set_title(\"Reading ability versus height in children\")\n",
    "fig.savefig(\"read_vs_height.pdf\",dpi=1200,bbox_inches=\"tight\")"
   ]
  },
  {
   "cell_type": "code",
   "execution_count": null,
   "metadata": {
    "collapsed": true
   },
   "outputs": [],
   "source": []
  }
 ],
 "metadata": {
  "kernelspec": {
   "display_name": "Python 2",
   "language": "python",
   "name": "python2"
  },
  "language_info": {
   "codemirror_mode": {
    "name": "ipython",
    "version": 2
   },
   "file_extension": ".py",
   "mimetype": "text/x-python",
   "name": "python",
   "nbconvert_exporter": "python",
   "pygments_lexer": "ipython2",
   "version": "2.7.13"
  }
 },
 "nbformat": 4,
 "nbformat_minor": 2
}
