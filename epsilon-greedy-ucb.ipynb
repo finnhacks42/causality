{
 "metadata": {
  "name": ""
 },
 "nbformat": 3,
 "nbformat_minor": 0,
 "worksheets": [
  {
   "cells": [
    {
     "cell_type": "markdown",
     "metadata": {},
     "source": [
      "#$\\epsilon$-Greedy-Causal-UCB: Basic Idea\n",
      "\n",
      "Setting is multiple independent binary variables $X_1...X_N$ cause binary reward variable $Y$. Available actions are to set any one variable to a given value - ie $K = 2N$. After we have played an action we observe the reward $Y$ and the values all the other variables took (odd setting I know)\n",
      "\n",
      "1. for each arm keep two sets of confidence bounds. One based on observational data, the other based on interventions.\n",
      "2. observe only (no action) with probability $\\epsilon$ and update observational bounds on all variables selected in these rounds.\n",
      "3. In remaining rounds, we select the arm with the highest upper confidence bound (considering the narrowest bound for each arm), and update interventional bounds for that variable. (Or I could thompson sample from the lowest variance posterior - possibly)\n",
      "4. There may be some way of varying $\\epsilon$ with time - huristically or based on something like information gain"
     ]
    },
    {
     "cell_type": "code",
     "collapsed": false,
     "input": [
      "# imports etc\n",
      "from scipy.stats import bernoulli,beta\n",
      "from numpy.random import randint\n",
      "from bandit_utils import BernoulliEstimator,TrivialProbabilityModel\n"
     ],
     "language": "python",
     "metadata": {},
     "outputs": [],
     "prompt_number": 1
    },
    {
     "cell_type": "markdown",
     "metadata": {},
     "source": [
      "## $\\epsilon$-Greedy-Causal-UCB (with fixed $\\epsilon$)"
     ]
    },
    {
     "cell_type": "code",
     "collapsed": false,
     "input": [
      "class EpsilonGreedyCausalUCBBandit:\n",
      "    def __init__(self,model,epsilon):\n",
      "        self.model = model\n",
      "        self.obs = [BernoulliEstimator(1,1,alpha) for k in range(self.K)]\n",
      "        self.intv = [BernoulliEstimator(1,1,alpha) for k in range(self.K)]\n",
      "        self.epsilon = bernoulli(epsilon)\n",
      "        \n",
      "    def run(self,horizon):\n",
      "        regret = zeros(horizon)\n",
      "        for t in range(horizon):\n",
      "            if self.epsilon.rvs()==1: # observe \n",
      "                X = self.model.sampleX() # randomly sample values of X\n",
      "                Y = self.model.sampleYGivenX(X)  # sample Y from P(Y|X)\n",
      "                \n",
      "                for var,value in enumerate(X):   # get the corresponding action for each setting of X and update\n",
      "                    action = self.model.toID(var,value)\n",
      "                    self.obs[action].update(Y)\n",
      "                    \n",
      "                retret[t] = self.model.best - self.model.expectedY() # update regret\n",
      "                        \n",
      "            else: # do UCB\n",
      "                upper = []\n",
      "                \n",
      "            \n",
      "            \n",
      "        "
     ],
     "language": "python",
     "metadata": {},
     "outputs": [
      {
       "ename": "IndentationError",
       "evalue": "expected an indented block (<ipython-input-2-a52cc8c6893a>, line 21)",
       "output_type": "pyerr",
       "traceback": [
        "\u001b[1;36m  File \u001b[1;32m\"<ipython-input-2-a52cc8c6893a>\"\u001b[1;36m, line \u001b[1;32m21\u001b[0m\n\u001b[1;33m    \u001b[0m\n\u001b[1;37m    ^\u001b[0m\n\u001b[1;31mIndentationError\u001b[0m\u001b[1;31m:\u001b[0m expected an indented block\n"
       ]
      }
     ],
     "prompt_number": 2
    },
    {
     "cell_type": "markdown",
     "metadata": {},
     "source": [
      "## UCB Bandit for comparison"
     ]
    },
    {
     "cell_type": "code",
     "collapsed": false,
     "input": [
      "class UCBBandit: \n",
      "    def __init__(self,model,alpha):\n",
      "        self.model = model\n",
      "        self.estimators = [BernoulliEstimator(1,1,alpha) for k in range(model.numArms)]\n",
      "        \n",
      "    def run(self,horizon):\n",
      "        regret = zeros(horizon)\n",
      "        for t in range(horizon):\n",
      "            upper = [x.upper(t+1) for x in self.estimators]\n",
      "            action = argmax(upper)\n",
      "            regret[t] = self.model.best - self.model.expectedYGivenAction(action)\n",
      "            reward = self.model.sampleY(action)\n",
      "            self.estimators[action].update(reward)\n",
      "        regret = cumsum(regret)\n",
      "        return regret\n",
      "\n",
      "num_vars = 3 \n",
      "horizon = 5000\n",
      "model = TrivialProbabilityModel(3,.2)\n",
      "ucb = UCBBandit(model,2.5)\n",
      "regret = ucb.run(horizon)\n",
      "plot(range(horizon),regret)\n",
      "xlabel(\"time\")\n",
      "ylabel(\"regret\")\n",
      "show()\n",
      "        "
     ],
     "language": "python",
     "metadata": {},
     "outputs": [
      {
       "metadata": {},
       "output_type": "display_data",
       "png": "[encoded data removed]",
       "text": [
        "<matplotlib.figure.Figure at 0x7fee9d7de190>"
       ]
      }
     ],
     "prompt_number": 14
    },
    {
     "cell_type": "code",
     "collapsed": false,
     "input": [],
     "language": "python",
     "metadata": {},
     "outputs": [],
     "prompt_number": 4
    },
    {
     "cell_type": "code",
     "collapsed": false,
     "input": [],
     "language": "python",
     "metadata": {},
     "outputs": []
    }
   ],
   "metadata": {}
  }
 ]
}