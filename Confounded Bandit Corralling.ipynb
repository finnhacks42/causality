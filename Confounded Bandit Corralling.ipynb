{
 "cells": [
  {
   "cell_type": "markdown",
   "metadata": {},
   "source": [
    "A better example than the biased Casino,\n",
    "\n",
    "You are getting action recommendations from an API (or another team) that you do not trust (or who were optimising to a different goal) but they have access to a variables that you do not. "
   ]
  },
  {
   "cell_type": "code",
   "execution_count": 1,
   "metadata": {},
   "outputs": [],
   "source": [
    "from causalpy.bandits import DiscreteContextualEnviroment,ThompsonSampling,DiscreteContextualBandit\n"
   ]
  },
  {
   "cell_type": "code",
   "execution_count": 2,
   "metadata": {},
   "outputs": [],
   "source": [
    "# take the setup Elias uses\n",
    "# generate a range of different scenarios\n",
    "# use a corral bandit version that interpolates between\n",
    "import numpy as np\n",
    "import matplotlib.pyplot as plt\n",
    "%matplotlib inline"
   ]
  },
  {
   "cell_type": "markdown",
   "metadata": {
    "collapsed": true
   },
   "source": [
    "E[y1|X, B, D] B = 0 B = 1 B = 0 B = 1\n",
    "X = 0 *0.20 0.30 0.50 0.60\n",
    "X = 1 0.60 *0.20 0.30 0.50\n",
    "X = 2 0.50 0.60 *0.20 0.30\n",
    "X = 3 0.30 0.50 0.60 *0.20\n",
    "(b) E[y1|X] E[y1|do(X)]\n",
    "X = 0 0.20 0.40\n",
    "X = 1 0.20 0.40\n",
    "X = 2 0.20 0.40\n",
    "X = 3 0.20 0.40"
   ]
  },
  {
   "cell_type": "code",
   "execution_count": 14,
   "metadata": {},
   "outputs": [
    {
     "data": {
      "text/plain": [
       "0.0"
      ]
     },
     "execution_count": 14,
     "metadata": {},
     "output_type": "execute_result"
    }
   ],
   "source": [
    "T = 1500\n",
    "num_actions = 15\n",
    "num_contexts = 4\n",
    "model = DiscreteContextualEnviroment.create_uninformative_context(num_contexts,num_actions,epsilon=0.4)\n",
    "\n",
    "alg2 = DiscreteContextualBandit(num_contexts,ThompsonSampling)\n",
    "alg2.run(T,model)\n",
    "\n",
    "alg1 = ThompsonSampling()\n",
    "alg1.run(T,model)"
   ]
  },
  {
   "cell_type": "code",
   "execution_count": 15,
   "metadata": {},
   "outputs": [],
   "source": [
    "simulations = 1000\n",
    "result = np.zeros((simulations,T,2))\n",
    "for s in range(simulations):\n",
    "    alg1 = ThompsonSampling()\n",
    "    alg2 = DiscreteContextualBandit(num_contexts,ThompsonSampling)\n",
    "    alg1.run(T,model)\n",
    "    alg2.run(T,model)\n",
    "    optimal_reward = model.best_reward()[alg2.contexts]\n",
    "    result[s,:,0] = optimal_reward - alg1.expected_reward(model)\n",
    "    result[s,:,1] = alg2.expected_regret(model)\n",
    "    "
   ]
  },
  {
   "cell_type": "code",
   "execution_count": 16,
   "metadata": {},
   "outputs": [
    {
     "data": {
      "text/plain": [
       "<matplotlib.legend.Legend at 0x1106e2e10>"
      ]
     },
     "execution_count": 16,
     "metadata": {},
     "output_type": "execute_result"
    },
    {
     "data": {
      "image/png": "[encoded data removed]",
      "text/plain": [
       "<matplotlib.figure.Figure at 0x1146c8c90>"
      ]
     },
     "metadata": {},
     "output_type": "display_data"
    }
   ],
   "source": [
    "plt.plot(result[:,:,0].mean(axis=0),label=\"MAB\")\n",
    "plt.plot(result[:,:,1].mean(axis=0),label=\"Contextual\")\n",
    "plt.legend(loc=\"upper right\")"
   ]
  },
  {
   "cell_type": "code",
   "execution_count": null,
   "metadata": {
    "collapsed": true
   },
   "outputs": [],
   "source": []
  }
 ],
 "metadata": {
  "kernelspec": {
   "display_name": "Python 2",
   "language": "python",
   "name": "python2"
  },
  "language_info": {
   "codemirror_mode": {
    "name": "ipython",
    "version": 2
   },
   "file_extension": ".py",
   "mimetype": "text/x-python",
   "name": "python",
   "nbconvert_exporter": "python",
   "pygments_lexer": "ipython2",
   "version": "2.7.13"
  }
 },
 "nbformat": 4,
 "nbformat_minor": 2
}
