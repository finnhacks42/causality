{
 "cells": [
  {
   "cell_type": "code",
   "execution_count": 11,
   "metadata": {
    "collapsed": true
   },
   "outputs": [],
   "source": [
    "import numpy as np\n",
    "from scipy.special import expit as sigmoid\n",
    "from scipy.stats import bernoulli\n",
    "from sklearn import linear_model\n",
    "import matplotlib.pyplot as plt\n",
    "import seaborn as sns\n",
    "from sklearn.metrics import mean_squared_error\n",
    "from sklearn.cross_validation import train_test_split\n",
    "from scipy.stats import beta\n",
    "import pandas as pd\n",
    "from representations import *\n",
    "%matplotlib inline"
   ]
  },
  {
   "cell_type": "code",
   "execution_count": 6,
   "metadata": {
    "collapsed": true
   },
   "outputs": [],
   "source": [
    "class DataModel:\n",
    "    def __init__(self,mean_x,cov_x,w,b,epsilon_y):\n",
    "        self.mean_x = mean_x\n",
    "        self.cov_x = cov_x\n",
    "        self.w = np.array(w).reshape((1,len(w)))\n",
    "        self.b = np.array(b).reshape((1,len(w)+1))\n",
    "        self.epsilon_y = epsilon_y\n",
    "    \n",
    "    def sample(self,samples):\n",
    "         # Assume x drawn from a multivarate gaussain distribution\n",
    "        self.x = np.random.multivariate_normal(self.mean_x,self.cov_x,size=samples)\n",
    "        \n",
    "        # Assume t is ~ bernoulli with p = sigmoid(w.x)\n",
    "        z = np.dot(self.x,self.w.T)\n",
    "        p = sigmoid(z)\n",
    "        self.t = bernoulli.rvs(p)\n",
    "\n",
    "        # Assume Y a linear function of (x,t) with guassian noise\n",
    "        self.phi = np.hstack((self.x,self.t)) # augment x with the vector t\n",
    "        self.phi1 = np.hstack((self.x,np.ones((len(self.x),1))))\n",
    "        self.phi0 = np.hstack((self.x,np.zeros((len(self.x),1))))\n",
    "        \n",
    "        self.y = self._y(self.phi) # the actual distribution\n",
    "        self.y1 = self._y(self.phi1) # what y would be if everyone were treated\n",
    "        self.y0 = self._y(self.phi0) # what y would be if everyone recieved control\n",
    "        return (self.x,self.t,self.phi,self.y)\n",
    "        \n",
    "    def _y(self,phi):\n",
    "        y = np.dot(phi,self.b.T)\n",
    "        noise = np.random.normal(loc=0,scale=self.epsilon_y,size=len(y)).reshape(y.shape)\n",
    "        return y+noise\n",
    "    \n",
    "    def ate(self):\n",
    "        return self.b[0,-1]\n",
    "        \n",
    "    def plot(self):\n",
    "        # plot P(Y|do(t=1)) and P(Y|do(t=0)) \n",
    "        fig, ax = plt.subplots(2)\n",
    "        sns.distplot(self.y1,ax=ax[0],label=\"Y1\")\n",
    "        sns.distplot(self.y0,ax=ax[0],label=\"Y0\")\n",
    "        ite = self.y1-self.y0\n",
    "        sns.distplot(ite,ax=ax[1],color=\"red\",label=\"ITE\")\n",
    "        ax[0].legend()\n",
    "        ax[1].legend()\n",
    "        ax[1].vlines(self.ate(),ymin=0,ymax=ax[1].get_ylim()[1])\n",
    "        plt.show()"
   ]
  },
  {
   "cell_type": "code",
   "execution_count": 7,
   "metadata": {
    "collapsed": true
   },
   "outputs": [],
   "source": [
    "class Context:\n",
    "    \"\"\"class to store details about state of model used in simulation.\"\"\"\n",
    "    def __init__(self,num_features,aw,bw,ab,bb,cm,epsilon,samples=1000,simulations=1000,true_ate=1):\n",
    "        self.num_features = num_features\n",
    "        self.aw = aw\n",
    "        self.bw = bw\n",
    "        self.ab = ab\n",
    "        self.bb = bb\n",
    "        self.cm = cm\n",
    "        self.epsilon = epsilon\n",
    "        self.samples = samples\n",
    "        self.simulations = simulations\n",
    "        self.true_ate = true_ate\n",
    "        self.params = [num_features,aw,bw,ab,bb,cm,epsilon,samples,simulations,true_ate]\n",
    "    \n",
    "        self.w = beta.rvs(aw, bw, size=num_features)\n",
    "        self.b = np.append( beta.rvs(ab,bb,size=num_features),true_ate)\n",
    "        self.x_mean = np.zeros(num_features)\n",
    "        self.x_cov = cm*np.diag(np.ones(num_features))\n",
    "        self.model = DataModel(self.x_mean,self.x_cov,self.w,self.b,epsilon)\n",
    "        \n",
    "        \n",
    "    def run(self):\n",
    "        model = self.model\n",
    "        r = np.zeros((self.simulations,3))\n",
    "        for s in range(self.simulations):\n",
    "            model.sample(self.samples)\n",
    "            ate_unadjusted = model.y[(model.t==1)].mean() - model.y[(model.t==0)].mean()\n",
    "            ate_fit,scores,selected= lasso_then_ridge(model)\n",
    "            lsq_fit = least_squares(model)\n",
    "            r[s] = [lsq_fit,ate_fit,ate_unadjusted]\n",
    "        rm = r.mean(axis=0)\n",
    "        re = 3*r.std(axis=0)/np.sqrt(self.simulations)\n",
    "        delta = (rm[1]-rm[0])/(re[1]+re[0])\n",
    "        return delta,rm,re\n",
    "    \n",
    "    def __str__(self):\n",
    "        return \"{0}, ({1},{2}), ({3},{4}), {5}, {6}, {7}, {8}, {9}\".format(self.num_features,self.aw,self.bw,self.ab,self.bb,self.cm,self.epsilon,self.samples,self.simulations,self.true_ate)"
   ]
  },
  {
   "cell_type": "code",
   "execution_count": 8,
   "metadata": {
    "collapsed": true
   },
   "outputs": [],
   "source": [
    "def lasso_then_ridge(model,ridge_alpha = [.001,.01,.1,1]):\n",
    "    target,phi = model.y.reshape(len(model.y)),model.phi\n",
    "        \n",
    "    X_train,X_test,y_train,y_test = train_test_split(phi,target,test_size=.33)\n",
    "    alphas,_,coefs = linear_model.lars_path(X_train,y_train,method=\"lasso\")\n",
    "    \n",
    "    params = []\n",
    "    scores = []\n",
    "    best_score = float(\"inf\")\n",
    "    best_model = None\n",
    "    best_selected = None\n",
    "    for i in range(len(alphas)):  # at each value of alpha - extract the features that are non-zero\n",
    "        c = coefs[:,i]\n",
    "        selected = np.where(c>0)[0]\n",
    "        if len(selected > 0):\n",
    "            X = X_train[:,selected] # only use features selected by lasso\n",
    "            for alpha in ridge_alpha:                    \n",
    "                ridge = linear_model.Ridge(alpha=alpha,copy_X=True)\n",
    "                ridge.fit(X,y_train)        \n",
    "                y_pred = ridge.predict(X_test[:,selected])# score the model \n",
    "                score = mean_squared_error(y_test,y_pred)\n",
    "                params.append((alphas[i],alpha))\n",
    "                scores.append(score)\n",
    "                if score < best_score:\n",
    "                    best_score = score\n",
    "                    best_model = ridge\n",
    "                    best_selected = selected\n",
    "    scores = sorted(list(zip(scores,params)),key = lambda x:x[0])\n",
    "    \n",
    "    y0_pred = best_model.predict(model.phi0[:,best_selected])\n",
    "    y1_pred = best_model.predict(model.phi1[:,best_selected])\n",
    "    ite_pred = y1_pred - y0_pred\n",
    "    ate_pred = ite_pred.mean()\n",
    "    return ate_pred,scores,best_selected\n",
    "                    \n",
    "def least_squares(model):\n",
    "    lsq = linear_model.LinearRegression()\n",
    "    lsq.fit(model.phi,model.y)\n",
    "    y0_pred = lsq.predict(model.phi0)\n",
    "    y1_pred = lsq.predict(model.phi1)\n",
    "    ite_pred = y1_pred - y0_pred\n",
    "    ate_pred = ite_pred.mean()\n",
    "    return ate_pred\n",
    "                        "
   ]
  },
  {
   "cell_type": "markdown",
   "metadata": {},
   "source": [
    "## Can unregularized least-squares beat lasso+ridge for causal effect estimation?\n",
    "Removing features (with lasso) reduces the variance but increases bias in a way that is not caputured by the cross-validation. (Because we can't cross-validate on how far off we are on the actual causal effect - only on how well we are predicting the target).\n",
    "\n",
    "Given that, it seemed like there should be settings in which simple least-squares consistently beats lasso+ridge.\n",
    "\n",
    "In the example below, many of the features have a strong link to treatment but a weak link to the target. This means they may be dropped insufficiently predictive but the total strength of the backdoor path, t<-x->y may still be moderate.\n",
    "\n",
    "Experimentally it appears that there are situations in which this problem is real. "
   ]
  },
  {
   "cell_type": "code",
   "execution_count": 13,
   "metadata": {
    "collapsed": false
   },
   "outputs": [],
   "source": [
    "s = Context(20,6,1,1,6,2,3)\n",
    "delta,rm,re = s.run()"
   ]
  },
  {
   "cell_type": "code",
   "execution_count": 12,
   "metadata": {
    "collapsed": false
   },
   "outputs": [
    {
     "data": {
      "image/png": "[encoded data removed]",
      "text/plain": [
       "<matplotlib.figure.Figure at 0x7fd9f0a56240>"
      ]
     },
     "metadata": {},
     "output_type": "display_data"
    }
   ],
   "source": [
    "fig, ax = plt.subplots()\n",
    "ind = np.arange(3)\n",
    "width=.35\n",
    "ax.bar(ind, rm,width = width,yerr = re)\n",
    "ax.set_ylabel('ATE')\n",
    "ax.set_xticks(ind)\n",
    "ax.set_xticklabels(('LSQ', 'Lasso & Ridge', 'Unadjusted'))\n",
    "plt.show()"
   ]
  },
  {
   "cell_type": "code",
   "execution_count": null,
   "metadata": {
    "collapsed": true
   },
   "outputs": [],
   "source": []
  }
 ],
 "metadata": {
  "kernelspec": {
   "display_name": "Python 3",
   "language": "python",
   "name": "python3"
  },
  "language_info": {
   "codemirror_mode": {
    "name": "ipython",
    "version": 3
   },
   "file_extension": ".py",
   "mimetype": "text/x-python",
   "name": "python",
   "nbconvert_exporter": "python",
   "pygments_lexer": "ipython3",
   "version": "3.5.1"
  }
 },
 "nbformat": 4,
 "nbformat_minor": 0
}
