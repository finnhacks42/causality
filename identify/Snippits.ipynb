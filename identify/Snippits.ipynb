{
 "cells": [
  {
   "cell_type": "markdown",
   "metadata": {},
   "source": [
    "# This notebook contains code snippets I might forget"
   ]
  },
  {
   "cell_type": "code",
   "execution_count": null,
   "metadata": {
    "collapsed": true
   },
   "outputs": [],
   "source": [
    "# Download the sets of simple, connected, non-isomorphic graphs from Brendan Mackay's website\n",
    "# TODO add a check to not redownload ...\n",
    "import wget\n",
    "graph_files = []\n",
    "for i in range(2,11):\n",
    "    url = \"http://users.cecs.anu.edu.au/~bdm/data/graph{0}c.g6\".format(i)\n",
    "    file_name = wget.download(url)\n",
    "    graph_files.append(file_name)"
   ]
  },
  {
   "cell_type": "code",
   "execution_count": null,
   "metadata": {
    "collapsed": true
   },
   "outputs": [],
   "source": [
    "from IPython.display import SVG,display\n",
    "for graph in gv:\n",
    "    display(SVG(graph._repr_svg_()))"
   ]
  }
 ],
 "metadata": {
  "kernelspec": {
   "display_name": "Python 3",
   "language": "python",
   "name": "python3"
  },
  "language_info": {
   "codemirror_mode": {
    "name": "ipython",
    "version": 3
   },
   "file_extension": ".py",
   "mimetype": "text/x-python",
   "name": "python",
   "nbconvert_exporter": "python",
   "pygments_lexer": "ipython3",
   "version": "3.5.1"
  }
 },
 "nbformat": 4,
 "nbformat_minor": 0
}
