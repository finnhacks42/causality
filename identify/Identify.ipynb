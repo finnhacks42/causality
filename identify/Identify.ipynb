{
 "cells": [
  {
   "cell_type": "markdown",
   "metadata": {},
   "source": [
    "# Graph identifiability\n",
    "In the space of causal graphs, what are the sizes of the sets of graphs with various identifiability properties?\n",
    "* Define a query Q(X,Y) as \"is P(Y|do(X)) identifiable\"\n",
    "* How many queries are there? How many are identifiable? How many are identifiable via the backdoor criterion.\n",
    "* Define a mixed graph as one in which each link between a set of vertices $\\{a,b\\}$ may be absent, $a\\rightarrow b$ or $a\\leftarrow b$ with an optional undirected link in each case.\n",
    "* Initially definet the space of causal graphs as the set of mixed graphs. A later question is how the (infinte) space over latent graphs maps to this set.\n",
    "* Initially asssume our queries are of the form P(Y|do(X)) where X and Y are single variables\n",
    "* Some changes to the way we define the space may not effect the relative size of the sets\n",
    "* Having answered the question, how many identifiable queries of each type there are - we could extend to ask about how stable they are. There are 2 kinds of stability - how does the answer to the query change if we add additional links not in the model & how robust is the answer to finite sample noise. "
   ]
  },
  {
   "cell_type": "markdown",
   "metadata": {},
   "source": [
    "## How many graphs are there?\n",
    " In a mixed graph as defined above, there are 6 possible options between each pair of vertices. With $n$ vertices, there are $\\frac{n(n-1)}{2}$ sets of vertices and thus $6^{n(n-1)/2}$ possible graphs. This counts all possible labelings and does not account for the fact that some of these graphs will be cyclic."
   ]
  },
  {
   "cell_type": "code",
   "execution_count": 8,
   "metadata": {
    "collapsed": false
   },
   "outputs": [
    {
     "name": "stdout",
     "output_type": "stream",
     "text": [
      "2 6\n",
      "3 216\n",
      "4 46656\n",
      "5 60466176\n",
      "6 470184984576\n",
      "7 21936950640377856\n",
      "8 6140942214464815497216\n",
      "9 10314424798490536576964100096\n",
      "10 103945637534048873019125219054321664\n"
     ]
    }
   ],
   "source": [
    "for n in range(2,11):\n",
    "    print(n,int(6**(n*(n-1)/2)))"
   ]
  },
  {
   "cell_type": "markdown",
   "metadata": {},
   "source": [
    "## What properties do our identifiability quries have to avoid brute force\n",
    "* Q(X,Y) is only defined for acyclic graphs\n",
    "* If X and Y are single variables, then Q(X,Y) is invarient to all graph lablings except for X and Y.\n",
    "* If Q(X,Y) = 0 in graph G, then it is also 0 for all supergraphs\n",
    "* If X is a decendent of Y in G, then Q(X,Y) = 1 in G and all supergraphs. (Because X must be an ancestor of Y to have a causal effect and X cannot be both an ancestor and a decendent without the existance of cycles.\n",
    "* The algorithm to compute Q(X,Y) involves decomosition (into C-components)\n",
    "\n",
    "I could use nauty to generate graph isomorphisms (for simple or directed graphs) up to around 10 nodes. \n"
   ]
  },
  {
   "cell_type": "code",
   "execution_count": null,
   "metadata": {
    "collapsed": true
   },
   "outputs": [],
   "source": []
  }
 ],
 "metadata": {
  "kernelspec": {
   "display_name": "Python 2",
   "language": "python",
   "name": "python2"
  },
  "language_info": {
   "codemirror_mode": {
    "name": "ipython",
    "version": 2
   },
   "file_extension": ".py",
   "mimetype": "text/x-python",
   "name": "python",
   "nbconvert_exporter": "python",
   "pygments_lexer": "ipython2",
   "version": "2.7.11"
  }
 },
 "nbformat": 4,
 "nbformat_minor": 0
}
