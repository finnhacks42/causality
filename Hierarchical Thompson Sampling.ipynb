{
 "metadata": {
  "name": ""
 },
 "nbformat": 3,
 "nbformat_minor": 0,
 "worksheets": [
  {
   "cells": [
    {
     "cell_type": "markdown",
     "metadata": {},
     "source": [
      "Assume we have an (unknown) enviroment parameterized by $\\theta$. Given a theta we know the probability distribution for rewards given previous actions and rewards. Goal is to minimize some regret.\n",
      "\n",
      "One approach. Sample $theta$, choose best action assuming that is the true value of theta, proceed. (Convergence not guaranteed)\n",
      "\n",
      "Another approach: information directed sampling?\n",
      "\n",
      "Write down simple model and lets try it out ...\n",
      "\n",
      "All very Bayesian ..."
     ]
    }
   ],
   "metadata": {}
  }
 ]
}