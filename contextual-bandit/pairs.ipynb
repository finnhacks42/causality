{
 "cells": [
  {
   "cell_type": "markdown",
   "metadata": {},
   "source": [
    "## Exploration of structure in classification\n",
    "\n",
    "There are multiple approaches to incorporating structure into classification/regression frameworks. \n",
    "* Multitask learning: Assumes we have a finite set of 'related' task to be learned jointly. This is expected to help when the tasks are sufficiently similar and there is insufficient data to learn independent models for each task well. \n",
    "    * Generally assumes a shared feature space\n",
    "* Transfer learning. Idea that we wish to leverage learning done on one task for another task. Differs from multitask learning in that it generally considers a source task - that has already been trained and a new target task (rather than two tasks to be learned jointly)\n",
    "* Semi superivsed learning - supervised learning with additional unlabeld data\n",
    "* Danial's work. Two-step semi-supervised learning. \n",
    "* Strutured Output (eg vector,graph,tree,etc output). Can be viewed as an instance of multiclass classification where each possible output is a seperate class.\n"
   ]
  },
  {
   "cell_type": "markdown",
   "metadata": {},
   "source": [
    "### Pairs Data\n",
    "A very simple synthetic problem to help get an understanding of how these approaches work/relate\n",
    "\n",
    "The idea is that we have two types of things, A and B. For each type the features are sampled from a multi-dimensional gaussian. \n",
    "\n",
    "Each row of training data contains features for object 1, features for object 2, label of object 1, label of object 2. This is a multi-class classification problem with 4 classes AA, AB, BA, BB. \n",
    "\n",
    "The additional structure we consider over the labels is the likelyhood that the pairs match (ie AA or BB)"
   ]
  },
  {
   "cell_type": "code",
   "execution_count": 58,
   "metadata": {
    "collapsed": true
   },
   "outputs": [],
   "source": [
    "import numpy as np\n",
    "import seaborn as sns\n",
    "import matplotlib.pyplot as plt\n",
    "from scipy.stats import bernoulli\n",
    "from scipy.stats import multivariate_normal\n",
    "sns.set(style=\"darkgrid\")\n",
    "%matplotlib inline"
   ]
  },
  {
   "cell_type": "code",
   "execution_count": 129,
   "metadata": {
    "collapsed": false
   },
   "outputs": [],
   "source": [
    "# Generates synthetic data, note we represent things of type A with 1 and B with 0.\n",
    "n = 100 # number of rows\n",
    "m1,c1 = [1,-1],[[.9,0],[0,.9]] # mean and covariance for type A\n",
    "m2,c2 = [-1,1],[[.7,0],[0,.4]] # mean and covariance for type B\n",
    "object_rvs = np.array([multivariate_normal(mean = m1, cov = c1), multivariate_normal(mean = m2, cov = c2)])\n",
    "p1 = 0.5 # probability object 1 is of type A\n",
    "p2given1 = np.array([.2,.8]) # probability object 2 is of type A given object1=A,object1=B\n",
    "\n",
    "# Sample the types (labels)\n",
    "y1 = bernoulli.rvs(p1,size=n)\n",
    "y2 = bernoulli.rvs(p2given1[y1],size=n)\n",
    "\n",
    "# Sample the features given the types\n",
    "\n",
    "x = np.empty((n,len(m1)+len(m2)))\n",
    "for row in range(n):\n",
    "    x1 = object_rvs[y1[row]].rvs()\n",
    "    x2 = object_rvs[y2[row]].rvs()\n",
    "    x[row] = np.hstack([x1,x2])"
   ]
  },
  {
   "cell_type": "code",
   "execution_count": 130,
   "metadata": {
    "collapsed": false
   },
   "outputs": [
    {
     "data": {
      "image/png": "[encoded data removed]",
      "text/plain": [
       "<matplotlib.figure.Figure at 0x7fde7b8d2518>"
      ]
     },
     "metadata": {},
     "output_type": "display_data"
    }
   ],
   "source": [
    "# Plot the distributions for each type\n",
    "\n",
    "# get features for things of each type\n",
    "t1 = np.vstack([x[np.where(y1 == 1)[0],0:2],x[np.where(y2 == 1)[0],2:]])\n",
    "t2 = np.vstack([x[np.where(y1 == 0)[0],0:2],x[np.where(y2 == 0)[0],2:]])\n",
    "\n",
    "f,ax = plt.subplots(figsize=(8,8))\n",
    "ax.set_aspect(\"equal\")\n",
    "#sns.kdeplot(t1[:,0],t1[:,1],cmap=\"Reds\",shade=True,shade_lowest=False,ax=ax,alpha=0.5)\n",
    "ax.scatter(t1[:,0],t1[:,1],color = \"red\",s=3,alpha=.5)\n",
    "#sns.kdeplot(t2[:,0],t2[:,1],cmap=\"Blues\",shade=True,shade_lowest=False,ax=ax,alpha=0.5)\n",
    "ax.scatter(t2[:,0],t2[:,1],color = \"blue\",s=3,alpha=0.5)\n",
    "plt.show()"
   ]
  },
  {
   "cell_type": "code",
   "execution_count": 136,
   "metadata": {
    "collapsed": false
   },
   "outputs": [
    {
     "data": {
      "text/plain": [
       "array([[1, 1],\n",
       "       [0, 0],\n",
       "       [0, 1],\n",
       "       [1, 1],\n",
       "       [1, 0],\n",
       "       [1, 1],\n",
       "       [0, 0],\n",
       "       [1, 1],\n",
       "       [1, 1],\n",
       "       [0, 0],\n",
       "       [1, 1],\n",
       "       [1, 1],\n",
       "       [1, 1],\n",
       "       [0, 0],\n",
       "       [0, 0],\n",
       "       [0, 0],\n",
       "       [1, 0],\n",
       "       [1, 0],\n",
       "       [1, 1],\n",
       "       [0, 0],\n",
       "       [0, 0],\n",
       "       [0, 0],\n",
       "       [0, 0],\n",
       "       [0, 0],\n",
       "       [1, 1],\n",
       "       [1, 1],\n",
       "       [1, 1],\n",
       "       [1, 0],\n",
       "       [0, 0],\n",
       "       [1, 1],\n",
       "       [0, 0],\n",
       "       [1, 0],\n",
       "       [1, 1],\n",
       "       [1, 1],\n",
       "       [0, 0],\n",
       "       [1, 1],\n",
       "       [0, 0],\n",
       "       [1, 1],\n",
       "       [0, 0],\n",
       "       [0, 1],\n",
       "       [0, 1],\n",
       "       [0, 1],\n",
       "       [0, 0],\n",
       "       [0, 0],\n",
       "       [1, 1],\n",
       "       [0, 0],\n",
       "       [1, 1],\n",
       "       [0, 0],\n",
       "       [1, 1],\n",
       "       [0, 0],\n",
       "       [0, 0],\n",
       "       [0, 0],\n",
       "       [0, 0],\n",
       "       [1, 0],\n",
       "       [0, 0],\n",
       "       [1, 1],\n",
       "       [0, 0],\n",
       "       [1, 1],\n",
       "       [0, 0],\n",
       "       [1, 1],\n",
       "       [1, 1],\n",
       "       [0, 1],\n",
       "       [1, 1],\n",
       "       [1, 1],\n",
       "       [1, 1],\n",
       "       [1, 1],\n",
       "       [1, 1],\n",
       "       [0, 0],\n",
       "       [1, 1],\n",
       "       [1, 1],\n",
       "       [1, 1],\n",
       "       [0, 0],\n",
       "       [1, 0],\n",
       "       [0, 1],\n",
       "       [0, 0],\n",
       "       [0, 1],\n",
       "       [1, 1],\n",
       "       [0, 0],\n",
       "       [1, 1],\n",
       "       [0, 0],\n",
       "       [1, 0],\n",
       "       [1, 1],\n",
       "       [1, 1],\n",
       "       [0, 1],\n",
       "       [0, 0],\n",
       "       [0, 1],\n",
       "       [1, 1],\n",
       "       [0, 1],\n",
       "       [1, 1],\n",
       "       [1, 0],\n",
       "       [1, 1],\n",
       "       [1, 1],\n",
       "       [0, 1],\n",
       "       [0, 0],\n",
       "       [1, 1],\n",
       "       [0, 0],\n",
       "       [1, 0],\n",
       "       [0, 0],\n",
       "       [1, 0],\n",
       "       [0, 1]])"
      ]
     },
     "execution_count": 136,
     "metadata": {},
     "output_type": "execute_result"
    }
   ],
   "source": [
    "np.vstack([y1,y2]).T"
   ]
  },
  {
   "cell_type": "code",
   "execution_count": null,
   "metadata": {
    "collapsed": true
   },
   "outputs": [],
   "source": []
  }
 ],
 "metadata": {
  "kernelspec": {
   "display_name": "Python 3",
   "language": "python",
   "name": "python3"
  },
  "language_info": {
   "codemirror_mode": {
    "name": "ipython",
    "version": 3
   },
   "file_extension": ".py",
   "mimetype": "text/x-python",
   "name": "python",
   "nbconvert_exporter": "python",
   "pygments_lexer": "ipython3",
   "version": "3.5.1"
  }
 },
 "nbformat": 4,
 "nbformat_minor": 0
}
