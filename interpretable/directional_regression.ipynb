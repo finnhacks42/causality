{
 "cells": [
  {
   "cell_type": "code",
   "execution_count": 1,
   "metadata": {
    "collapsed": false
   },
   "outputs": [],
   "source": [
    "%matplotlib inline\n",
    "from sympy import Symbol, Matrix,collect,expand,simplify\n",
    "from sympy import init_printing\n",
    "import numpy as np\n",
    "from IPython.display import display\n",
    "init_printing(use_latex=True)\n",
    "import matplotlib.pyplot as plt\n",
    "import pandas as pd\n",
    "import seaborn as sns\n",
    "from models import LinearGaussianBN\n",
    "from scipy.optimize import lsq_linear\n",
    "from sklearn.linear_model import LinearRegression"
   ]
  },
  {
   "cell_type": "code",
   "execution_count": 2,
   "metadata": {
    "collapsed": false
   },
   "outputs": [],
   "source": [
    "def bounds_from_signs(signs):\n",
    "    bounds_lower = [0 if s == 1 else -np.inf for s in signs]\n",
    "    bounds_upper = [np.inf if s == 1 else 0 for s in signs]\n",
    "    return (bounds_lower,bounds_upper)\n",
    "\n",
    "def clip_to_bounds(intercept,coefficients,bounds):\n",
    "    all_coef = np.concatenate(([intercept],coefficients))\n",
    "    for indx,c in enumerate(all_coef):\n",
    "        lower_bound = bounds[0][indx]\n",
    "        upper_bound = bounds[1][indx]\n",
    "        if c < lower_bound:\n",
    "            all_coef[indx] = lower_bound\n",
    "        elif c > upper_bound:\n",
    "            all_coef[indx] = upper_bound\n",
    "    return all_coef[0],all_coef[1:]\n",
    "\n",
    "class ConstrainedLinearRegression(object):\n",
    "    \"\"\" constrains value of coefficient during fit.\"\"\"\n",
    "    \n",
    "    def __init__(self,signs):\n",
    "        self.bounds = bounds_from_signs(signs)\n",
    "    \n",
    "    def fit(self,X,y):\n",
    "        dataX = np.hstack((np.ones((X.shape[0],1)),X))\n",
    "        result = lsq_linear(dataX,y,bounds = self.bounds)\n",
    "        if not result.success:\n",
    "            raise RuntimeError(\"Fit failed: \"+result.message)\n",
    "       \n",
    "        self.intercept_, self.coef_ = clip_to_bounds(result.x[0],result.x[1:],self.bounds) # should already be within tolerance of bounds\n",
    "\n",
    "class ClippedLinearRegression(object):\n",
    "    \"\"\" sets each coefficient to closest valid point independently after fit\"\"\"\n",
    "    \n",
    "    def __init__(self,signs):\n",
    "        self.model = LinearRegression()\n",
    "        self.bounds = bounds_from_signs(signs)\n",
    "    \n",
    "    def fit(self,X,y):\n",
    "        self.model.fit(X,y)\n",
    "        self.intercept_,self.coef_ = clip_to_bounds(self.model.intercept_,self.model.coef_,self.bounds)"
   ]
  },
  {
   "cell_type": "code",
   "execution_count": 3,
   "metadata": {
    "collapsed": false,
    "scrolled": false
   },
   "outputs": [],
   "source": [
    "model = LinearGaussianBN()\n",
    "model.add_var('Z')\n",
    "model.add_var('A',['Z'])\n",
    "model.add_var('B',['Z'])\n",
    "model.add_var('C')\n",
    "model.add_var('D')\n",
    "model.add_var('Y',['Z','A','B','C','D'])\n",
    "\n",
    "p_y = model.observe(['A','B','C','D'],['a','b','c','d']).marginal(['Y'])"
   ]
  },
  {
   "cell_type": "code",
   "execution_count": 4,
   "metadata": {
    "collapsed": false
   },
   "outputs": [
    {
     "data": {
      "image/png": "[encoded data removed]",
      "text/latex": [
       "$$\\left ( \\left[\\begin{matrix}- 1.5 a - 0.250000000000001 b + 0.5 c - 2.0 d + 0.1\\end{matrix}\\right], \\quad \\left[\\begin{matrix}2.0\\end{matrix}\\right]\\right )$$"
      ],
      "text/plain": [
       "([-1.5⋅a - 0.250000000000001⋅b + 0.5⋅c - 2.0⋅d + 0.1], [2.0])"
      ]
     },
     "execution_count": 4,
     "metadata": {},
     "output_type": "execute_result"
    }
   ],
   "source": [
    "w_AZ = 1\n",
    "w_BZ = 1\n",
    "\n",
    "w_YZ = -4\n",
    "w_YA = 1\n",
    "w_YB = 1\n",
    "w_YC = .5\n",
    "w_YD = -2.0\n",
    "\n",
    "y_coeff = [0.1,w_YZ,w_YA,w_YB,w_YC,w_YD]\n",
    "bounds = [1 if w > 0 else -1 for w in y_coeff]\n",
    "bounds.pop(1) # remove bound on w_YZ as Z is latent\n",
    "\n",
    "params = {\"Z\":([0],1),\"A\":([0,w_AZ],.1),\"B\":([0,w_BZ],.2),\"C\":([1],1),\"D\":([-1],.5),\"Y\":(y_coeff,1)}\n",
    "p_y.set_params(params).parameterized_mean_cov()"
   ]
  },
  {
   "cell_type": "code",
   "execution_count": 5,
   "metadata": {
    "collapsed": false
   },
   "outputs": [
    {
     "name": "stdout",
     "output_type": "stream",
     "text": [
      "(1000, 4)\n"
     ]
    }
   ],
   "source": [
    "n = 1000\n",
    "data = model.marginal(['A','B','C','D','Y']).set_params(params).sample(n)\n",
    "X = data[:,0:-1]\n",
    "y = data[:,-1]\n",
    "print(X.shape)"
   ]
  },
  {
   "cell_type": "code",
   "execution_count": 6,
   "metadata": {
    "collapsed": false
   },
   "outputs": [
    {
     "name": "stdout",
     "output_type": "stream",
     "text": [
      "0.301712029461 [-1.62611941 -0.13259358  0.43851399 -1.89039404]\n",
      "0.288606464896 [  9.12105178e-20   7.44828320e-21   4.36151326e-01  -1.85270096e+00]\n",
      "0.301712029461 [ 0.          0.          0.43851399 -1.89039404]\n"
     ]
    }
   ],
   "source": [
    "lfit = LinearRegression()\n",
    "lfit.fit(X,y)\n",
    "print(lfit.intercept_,lfit.coef_)\n",
    "                 \n",
    "cfit = ConstrainedLinearRegression(bounds)\n",
    "cfit.fit(X,y)\n",
    "print(cfit.intercept_,cfit.coef_)\n",
    "\n",
    "clfit = ClippedLinearRegression(bounds)\n",
    "clfit.fit(X,y)\n",
    "print(clfit.intercept_,clfit.coef_)"
   ]
  },
  {
   "cell_type": "code",
   "execution_count": null,
   "metadata": {
    "collapsed": true
   },
   "outputs": [],
   "source": [
    "# what is the query - are we looking at the value of the coefficients? Predictive accuracy given what intervention. When do we win?"
   ]
  },
  {
   "cell_type": "code",
   "execution_count": 7,
   "metadata": {
    "collapsed": true
   },
   "outputs": [],
   "source": []
  }
 ],
 "metadata": {
  "kernelspec": {
   "display_name": "Python 3",
   "language": "python",
   "name": "python3"
  },
  "language_info": {
   "codemirror_mode": {
    "name": "ipython",
    "version": 3
   },
   "file_extension": ".py",
   "mimetype": "text/x-python",
   "name": "python",
   "nbconvert_exporter": "python",
   "pygments_lexer": "ipython3",
   "version": "3.5.2"
  }
 },
 "nbformat": 4,
 "nbformat_minor": 0
}
